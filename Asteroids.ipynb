{
 "cells": [
  {
   "cell_type": "markdown",
   "id": "2ae7870d-3eae-4fd6-ac1a-c8345f311fbd",
   "metadata": {},
   "source": [
    "# Difference in Palermo Scale between Large and Small Asteroids"
   ]
  },
  {
   "cell_type": "markdown",
   "id": "341d4c40-cb9d-4787-aef0-981d62123441",
   "metadata": {},
   "source": [
    "### Introduction"
   ]
  },
  {
   "cell_type": "markdown",
   "id": "7f615976-0901-4ef0-bec0-2d4bbed80265",
   "metadata": {},
   "source": [
    "Asteroids, meteorites flying through space, are important to track as the ones that have collided with the earth in the past have critically changed the Earth’s biosphere (Yeomans 1998) and its craters have been important analytical tools to explain our solar systems past (AMNH n.a). With the danger that a large asteroid could bring to earth, planetary defence analytics is important, and knowing how to prioritise which near-earth objects to look out for is essential in a time crunch (Yeomans 1998). Our inferential question is whether the magnitude of an asteroid affects the number of potential impacts that it will have with Earth. Given our question, the population of interest will be the asteroids that have currently been prioritised analytically to have a possibility of intersecting with the earth’s trajectory over a 100 year period. In our report, we will also be exploring a metric called the Palermo Scale, this hazard scale is used to help NEO specialists prioritise any risks of potential impact encompassing a lot of dates and probabilities (NASA n.d). It essentially compares how likely it is for objects with a possibility of impact with the average risk of similar sized objects from previous dates (NASA n.d). In order to help us answer our inferential question, we will be dividing the data into two groups by asteroid size. Splitting the data into “large” and “small” categories based on if the asteroid is larger or smaller than the median asteroid magnitude will help us come to a conclusion more clearly on if magnitude truly affects potential impact possibility. Based on our chosen response variable, our location and scale parameter will be the mean and standard deviation of the Palermo Scale, respectively.Because of our inferential question, we can state that our null hypothesis will be that there is no difference in the Palermo scale between large and small asteroids. The significance level that we will be using to conduct this hypothesis test will be 0.05, we will be using this significance level because we want a lower risk of committing a type I error. The dataset we will be using for this report is the “Possible Asteroid Impacts with Earth” dataset found on Kaggle. While there are 10 variables provided in the data, we will only be focusing on the asteroid magnitude, maximum palermo scale, asteroid size, and possible impact columns. "
   ]
  },
  {
   "cell_type": "markdown",
   "id": "2d7443df-ef82-4032-ba58-5ba87a26c172",
   "metadata": {},
   "source": [
    "The Palermo Scale compares the likelihood of the detected potential impact with the average risk posed by objects of the same size or larger over the years until the date of the potential impact. This average risk from random impacts is known as the background risk. For convenience the scale is logarithmic, so, for examples, a Palermo Scale value of -2 indicates that the detected potential impact event is only 1% as likely as a random background event occurring in the intervening years, a value of zero indicates that the single event is just as threatening as the background hazard, and a value of +2 indicates an event that is 100 times more likely than a background impact by an object at least as large before the date of the potential impact in question. Since all the values in the dataset are negative, we take the absolute value of the palermo scale to make it easier to interpret. Therefore now, the smaller the value to more likely it is to impact Earth and be dangerous."
   ]
  },
  {
   "cell_type": "markdown",
   "id": "7b57987e-7165-4433-b884-33d46d8c73ec",
   "metadata": {},
   "source": [
    "The Palermo scale was chosen as the metric because it quantifies the relative risk of a NEO over a period of time. It is trustworthy because it is widely recognized by NEO specialists as the predominant metric for quantifying the level of concern. <br>\n",
    "The Sentry system used to monitor potential asteroid collisions is less accurate at calculating the elliptical path and the trajectory of the smaller asteroids. This may result in the group with the small asteroids not being a good representation of the true risk represented by the Palermo scale. <br>\n",
    "We expect to find a higher Palermo scale for asteroids with higher magnitude. This could help analysts more quickly recognize possible harmful asteroids vs benign ones based purely on magnitude. This leads to further questions such as what other parameters influence the Palermo scale, and could this analysis apply to other objects floating above Earth, like the 100 trillion trash and satellites (Kluger 2023), that have an equal chance of colliding and causing damage to Earth?"
   ]
  },
  {
   "cell_type": "markdown",
   "id": "65abc81c-12a6-47c2-976c-1375737989b5",
   "metadata": {},
   "source": [
    "### Methods, Results and Discussion"
   ]
  },
  {
   "cell_type": "code",
   "execution_count": 58,
   "id": "c94a8015-25d5-4baf-9cb4-2b2f305b3ce3",
   "metadata": {},
   "outputs": [],
   "source": [
    "# Here we are loading all libraries needed to run the remaining code\n",
    "library(tidyverse)\n",
    "library(broom)\n",
    "library(infer)"
   ]
  },
  {
   "cell_type": "code",
   "execution_count": 59,
   "id": "774145cc-1c8c-4a1d-b6de-188b39b2af65",
   "metadata": {},
   "outputs": [],
   "source": [
    "# We are loading our dataframe from our github page in which we have downloaded the dataset in\n",
    "url <- 'https://raw.githubusercontent.com/arulh/STAT-201-project/main/data/impacts.csv'\n",
    "df <- read.csv(\n",
    "    url\n",
    ")\n"
   ]
  },
  {
   "cell_type": "markdown",
   "id": "7d376a5b-ced6-4108-904c-dc5edb929825",
   "metadata": {},
   "source": [
    "Here we are creating a new column called asteroid_size. The values are \"large\" if the Asteroid is larger than the median asteroid magnitude and \"small\" if smaller or equal to the Median Magnitude. This is needed when coming up with our hypothesis test."
   ]
  },
  {
   "cell_type": "code",
   "execution_count": 60,
   "id": "d772e560-4927-48ad-9ae9-b817e6d167ad",
   "metadata": {},
   "outputs": [
    {
     "data": {
      "text/html": [
       "<table class=\"dataframe\">\n",
       "<caption>A data.frame: 6 × 2</caption>\n",
       "<thead>\n",
       "\t<tr><th></th><th scope=col>asteroid_size</th><th scope=col>Maximum.Palermo.Scale</th></tr>\n",
       "\t<tr><th></th><th scope=col>&lt;chr&gt;</th><th scope=col>&lt;dbl&gt;</th></tr>\n",
       "</thead>\n",
       "<tbody>\n",
       "\t<tr><th scope=row>1</th><td>large</td><td>8.31</td></tr>\n",
       "\t<tr><th scope=row>2</th><td>large</td><td>6.96</td></tr>\n",
       "\t<tr><th scope=row>3</th><td>large</td><td>6.87</td></tr>\n",
       "\t<tr><th scope=row>4</th><td>large</td><td>6.95</td></tr>\n",
       "\t<tr><th scope=row>5</th><td>small</td><td>4.30</td></tr>\n",
       "\t<tr><th scope=row>6</th><td>small</td><td>5.51</td></tr>\n",
       "</tbody>\n",
       "</table>\n"
      ],
      "text/latex": [
       "A data.frame: 6 × 2\n",
       "\\begin{tabular}{r|ll}\n",
       "  & asteroid\\_size & Maximum.Palermo.Scale\\\\\n",
       "  & <chr> & <dbl>\\\\\n",
       "\\hline\n",
       "\t1 & large & 8.31\\\\\n",
       "\t2 & large & 6.96\\\\\n",
       "\t3 & large & 6.87\\\\\n",
       "\t4 & large & 6.95\\\\\n",
       "\t5 & small & 4.30\\\\\n",
       "\t6 & small & 5.51\\\\\n",
       "\\end{tabular}\n"
      ],
      "text/markdown": [
       "\n",
       "A data.frame: 6 × 2\n",
       "\n",
       "| <!--/--> | asteroid_size &lt;chr&gt; | Maximum.Palermo.Scale &lt;dbl&gt; |\n",
       "|---|---|---|\n",
       "| 1 | large | 8.31 |\n",
       "| 2 | large | 6.96 |\n",
       "| 3 | large | 6.87 |\n",
       "| 4 | large | 6.95 |\n",
       "| 5 | small | 4.30 |\n",
       "| 6 | small | 5.51 |\n",
       "\n"
      ],
      "text/plain": [
       "  asteroid_size Maximum.Palermo.Scale\n",
       "1 large         8.31                 \n",
       "2 large         6.96                 \n",
       "3 large         6.87                 \n",
       "4 large         6.95                 \n",
       "5 small         4.30                 \n",
       "6 small         5.51                 "
      ]
     },
     "metadata": {},
     "output_type": "display_data"
    }
   ],
   "source": [
    "# We find the median maginitude of the asteroid in order to classify each asteroid as large or small\n",
    "median_magnitude <- median(df$Asteroid.Magnitude)\n",
    "\n",
    "# Here we are altering our dataframe to include the new asteroid size column and only select the columns required\n",
    "df <- df %>%\n",
    "    mutate(asteroid_size = if_else(df$Asteroid.Magnitude > median_magnitude, 'large', 'small')) %>%\n",
    "    mutate(Maximum.Palermo.Scale = abs(Maximum.Palermo.Scale)) %>% #Since all our values are negative we take the absolute value to make it easier to interpret\n",
    "    select(asteroid_size, Maximum.Palermo.Scale) \n",
    "\n",
    "head(df)"
   ]
  },
  {
   "cell_type": "code",
   "execution_count": 61,
   "id": "ccc3a274-ac43-4c68-b710-bf57450f2052",
   "metadata": {},
   "outputs": [],
   "source": [
    "### Getting Location and Scale Parameters"
   ]
  },
  {
   "cell_type": "code",
   "execution_count": 76,
   "id": "fd0e9226-4ca5-4417-a738-21ae3e45b7ff",
   "metadata": {},
   "outputs": [
    {
     "data": {
      "text/html": [
       "<table class=\"dataframe\">\n",
       "<caption>A tibble: 2 × 9</caption>\n",
       "<thead>\n",
       "\t<tr><th scope=col>asteroid_size</th><th scope=col>sample_size</th><th scope=col>mean_Palermo_Scale</th><th scope=col>median_Palermo_Scale</th><th scope=col>mode_Palermo_Scale</th><th scope=col>twenty_fifth_percentile</th><th scope=col>seventy_fifth_percentile</th><th scope=col>standard_deviation</th><th scope=col>inter_quartile_range_50</th></tr>\n",
       "\t<tr><th scope=col>&lt;chr&gt;</th><th scope=col>&lt;int&gt;</th><th scope=col>&lt;dbl&gt;</th><th scope=col>&lt;dbl&gt;</th><th scope=col>&lt;dbl&gt;</th><th scope=col>&lt;dbl&gt;</th><th scope=col>&lt;dbl&gt;</th><th scope=col>&lt;dbl&gt;</th><th scope=col>&lt;dbl&gt;</th></tr>\n",
       "</thead>\n",
       "<tbody>\n",
       "\t<tr><td>large</td><td>340</td><td>7.269176</td><td>7.25</td><td>7.50</td><td>6.35</td><td>8.0825</td><td>1.335189</td><td>1.7325</td></tr>\n",
       "\t<tr><td>small</td><td>343</td><td>6.342915</td><td>6.34</td><td>6.43</td><td>5.38</td><td>7.3100</td><td>1.466209</td><td>1.9300</td></tr>\n",
       "</tbody>\n",
       "</table>\n"
      ],
      "text/latex": [
       "A tibble: 2 × 9\n",
       "\\begin{tabular}{lllllllll}\n",
       " asteroid\\_size & sample\\_size & mean\\_Palermo\\_Scale & median\\_Palermo\\_Scale & mode\\_Palermo\\_Scale & twenty\\_fifth\\_percentile & seventy\\_fifth\\_percentile & standard\\_deviation & inter\\_quartile\\_range\\_50\\\\\n",
       " <chr> & <int> & <dbl> & <dbl> & <dbl> & <dbl> & <dbl> & <dbl> & <dbl>\\\\\n",
       "\\hline\n",
       "\t large & 340 & 7.269176 & 7.25 & 7.50 & 6.35 & 8.0825 & 1.335189 & 1.7325\\\\\n",
       "\t small & 343 & 6.342915 & 6.34 & 6.43 & 5.38 & 7.3100 & 1.466209 & 1.9300\\\\\n",
       "\\end{tabular}\n"
      ],
      "text/markdown": [
       "\n",
       "A tibble: 2 × 9\n",
       "\n",
       "| asteroid_size &lt;chr&gt; | sample_size &lt;int&gt; | mean_Palermo_Scale &lt;dbl&gt; | median_Palermo_Scale &lt;dbl&gt; | mode_Palermo_Scale &lt;dbl&gt; | twenty_fifth_percentile &lt;dbl&gt; | seventy_fifth_percentile &lt;dbl&gt; | standard_deviation &lt;dbl&gt; | inter_quartile_range_50 &lt;dbl&gt; |\n",
       "|---|---|---|---|---|---|---|---|---|\n",
       "| large | 340 | 7.269176 | 7.25 | 7.50 | 6.35 | 8.0825 | 1.335189 | 1.7325 |\n",
       "| small | 343 | 6.342915 | 6.34 | 6.43 | 5.38 | 7.3100 | 1.466209 | 1.9300 |\n",
       "\n"
      ],
      "text/plain": [
       "  asteroid_size sample_size mean_Palermo_Scale median_Palermo_Scale\n",
       "1 large         340         7.269176           7.25                \n",
       "2 small         343         6.342915           6.34                \n",
       "  mode_Palermo_Scale twenty_fifth_percentile seventy_fifth_percentile\n",
       "1 7.50               6.35                    8.0825                  \n",
       "2 6.43               5.38                    7.3100                  \n",
       "  standard_deviation inter_quartile_range_50\n",
       "1 1.335189           1.7325                 \n",
       "2 1.466209           1.9300                 "
      ]
     },
     "metadata": {},
     "output_type": "display_data"
    }
   ],
   "source": [
    "# Creating a function that can calculate the mode\n",
    "getmode <- function(v) {\n",
    "   uniqv <- unique(v)\n",
    "   uniqv[which.max(tabulate(match(v, uniqv)))]\n",
    "}\n",
    "\n",
    "\n",
    "# Creating table with all parameters\n",
    "mean_values <- df %>%\n",
    "    group_by(asteroid_size) %>%\n",
    "    summarize(sample_size = n(),\n",
    "            mean_Palermo_Scale = mean(Maximum.Palermo.Scale), # gets the mean of the two asteroid size groups\n",
    "             median_Palermo_Scale = median(Maximum.Palermo.Scale), # gets the median of the two asteroid size groups\n",
    "             mode_Palermo_Scale = getmode(Maximum.Palermo.Scale), # gets the mode of the two asteroid size groups\n",
    "             twenty_fifth_percentile = quantile(Maximum.Palermo.Scale, probs = .25), # gets the 25th percentile of the two asteroid size groups\n",
    "             seventy_fifth_percentile = quantile(Maximum.Palermo.Scale, probs = .75), # gets the 75th percentile of the two asteroid size groups\n",
    "             standard_deviation = sd(Maximum.Palermo.Scale), # gets the standard deviation of the two asteroid size groups\n",
    "             inter_quartile_range_50 = seventy_fifth_percentile - twenty_fifth_percentile) # gets the inter quartile range from 25-75th percentile of the two asteroid size groups\n",
    "\n",
    "mean_values\n"
   ]
  },
  {
   "cell_type": "code",
   "execution_count": 63,
   "id": "95ff6a58-db65-4968-bde2-d21a41259d61",
   "metadata": {},
   "outputs": [
    {
     "data": {
      "image/png": "[encoded data removed]",
      "text/plain": [
       "plot without title"
      ]
     },
     "metadata": {
      "image/png": {
       "height": 420,
       "width": 420
      }
     },
     "output_type": "display_data"
    }
   ],
   "source": [
    "## Getting Histogram of the overall distibution\n",
    "histogram <- \n",
    "    df %>% \n",
    "    ggplot() + \n",
    "    geom_histogram(aes(x=Maximum.Palermo.Scale), binwidth = 0.3, color=\"white\") +\n",
    "    xlab(\"Maximum Palermo Scale\") + \n",
    "    theme(text = element_text(size=22)) + \n",
    "    ggtitle(\"Maximum Palermo Scale Histogram\")\n",
    "\n",
    "histogram"
   ]
  },
  {
   "cell_type": "code",
   "execution_count": 64,
   "id": "d436d492-272e-4d17-8a41-336189c4b8f3",
   "metadata": {},
   "outputs": [
    {
     "data": {
      "image/png": "[encoded data removed]",
      "text/plain": [
       "plot without title"
      ]
     },
     "metadata": {
      "image/png": {
       "height": 420,
       "width": 420
      }
     },
     "output_type": "display_data"
    }
   ],
   "source": [
    "## Getting Boxplot for both large and small asteroids\n",
    "boxplots <- \n",
    "   df %>%  \n",
    "   ggplot(aes(x = asteroid_size, y = Maximum.Palermo.Scale)) + \n",
    "   geom_boxplot() + \n",
    "   ylab(\"Maximum Palermo Scale\") +\n",
    "   ggtitle(\"Palermo Scale by Asteroid Size\") +\n",
    "    xlab(\"Asteroid Size\") +\n",
    "   theme(text = element_text(size=25))\n",
    "\n",
    "boxplots"
   ]
  },
  {
   "cell_type": "markdown",
   "id": "ec34d83c-6f6f-4278-ba06-9deaaa1a1555",
   "metadata": {},
   "source": [
    "Our boxplot suggests that the asteroids classified as large have a larger absolute value of Maximum Palermo Scale than the asteroids classified as small. This indicates that smaller asteroids are more likely to impact with Earth and cause damage than large asteroids."
   ]
  },
  {
   "cell_type": "code",
   "execution_count": 65,
   "id": "92f70ee5-eaf4-43bd-b3a0-5153c1a30e1a",
   "metadata": {},
   "outputs": [
    {
     "data": {
      "image/png": "[encoded data removed]",
      "text/plain": [
       "plot without title"
      ]
     },
     "metadata": {
      "image/png": {
       "height": 420,
       "width": 420
      }
     },
     "output_type": "display_data"
    },
    {
     "data": {
      "image/png": "[encoded data removed]",
      "text/plain": [
       "plot without title"
      ]
     },
     "metadata": {
      "image/png": {
       "height": 420,
       "width": 420
      }
     },
     "output_type": "display_data"
    }
   ],
   "source": [
    "# Getting histogram of only the asteroids classified as small asteroids\n",
    "histogram_small_asteroid <- \n",
    "    df %>% \n",
    "    filter(asteroid_size == \"small\") %>%\n",
    "    ggplot() + \n",
    "    geom_histogram(aes(x=Maximum.Palermo.Scale), binwidth = 0.3, color=\"white\") +\n",
    "    xlab(\"Maximum Palermo Scale\") + \n",
    "    theme(text = element_text(size=25)) + \n",
    "    ggtitle(\"Palermo Scale Histogram\", subtitle = \"Small Asteroids\")\n",
    "\n",
    "# Getting histogram of only the asteroids classified as large asteroids\n",
    "histogram_large_asteroid <- \n",
    "    df %>% \n",
    "    filter(asteroid_size == \"large\") %>%\n",
    "    ggplot() + \n",
    "    geom_histogram(aes(x=Maximum.Palermo.Scale), binwidth = 0.3, color=\"white\") +\n",
    "    xlab(\"Maximum Palermo Scale\") + \n",
    "    theme(text = element_text(size=25)) + \n",
    "    ggtitle(\"Palermo Scale Histogram\", subtitle = \"Large Asteroids\")\n",
    "\n",
    "histogram_small_asteroid\n",
    "histogram_large_asteroid\n",
    "\n"
   ]
  },
  {
   "cell_type": "markdown",
   "id": "c4e2fb3f-d740-4240-a49f-d3ba93efe556",
   "metadata": {},
   "source": [
    "As we can see above, the distribution of the max palermo scale roughly follows a normal distribution. This also holds when creating individual histograms for the large and small asteroids."
   ]
  },
  {
   "cell_type": "code",
   "execution_count": 66,
   "id": "86931d67-eefc-4ef6-9b1d-ea968b72e2ca",
   "metadata": {},
   "outputs": [],
   "source": [
    "### Bootstrap Distribution"
   ]
  },
  {
   "cell_type": "code",
   "execution_count": 70,
   "id": "b7593cc9-265e-4262-a471-a703cfd9c147",
   "metadata": {},
   "outputs": [
    {
     "data": {
      "image/png": "[encoded data removed]",
      "text/plain": [
       "plot without title"
      ]
     },
     "metadata": {
      "image/png": {
       "height": 420,
       "width": 420
      }
     },
     "output_type": "display_data"
    }
   ],
   "source": [
    "### Bootstrap Distribution\n",
    "### We are taking 10,000 rep;icates of samples (selecting from our original data with replacement) to be able to get an estimate of how our \n",
    "### sampling distribution would look like\n",
    "set.seed(1)\n",
    "\n",
    "sample_dist <- \n",
    "    df %>% \n",
    "    specify(response = Maximum.Palermo.Scale) %>% \n",
    "    generate(type = \"bootstrap\", reps = 10000) %>% \n",
    "    calculate(stat = \"mean\")\n",
    "\n",
    "bootstrap_dist <- \n",
    "    sample_dist %>% \n",
    "    ggplot() + \n",
    "    geom_histogram(aes(x=stat), bins = 15, color=\"white\") +\n",
    "    xlab(\"mean values of Maximum Palermo Scale\") + \n",
    "    theme(text = element_text(size=25)) + \n",
    "    ggtitle(\"Bootstrapped sampling dist.\", subtitle = \"Mean Palermo Scale\")\n",
    "\n",
    "bootstrap_dist"
   ]
  },
  {
   "cell_type": "markdown",
   "id": "054c9866-20f4-4198-ac4e-6c337caa3f49",
   "metadata": {},
   "source": [
    "From the absolute value of the maximum Palermo scale of large and small asteroids, we will perform a hypothesis test to conclude whether the small asteroid has a larger chance of impact on the earth than large asteroids:\n",
    "\n",
    "The two hypothesis are:\n",
    "\n",
    "- $H_0: \\mu_{large} - \\mu_{small} = 0$\n",
    "- $H_a: \\mu_{large} - \\mu_{small} > 0$\n",
    "\n",
    "Since the asteroids are different and independent of each other, we will be performing a two-sample t-test on each large or small asteroids.\n"
   ]
  },
  {
   "cell_type": "code",
   "execution_count": 68,
   "id": "74b5d598-bde6-4541-8750-fca05d407214",
   "metadata": {},
   "outputs": [
    {
     "data": {
      "text/html": [
       "8.63334875296852"
      ],
      "text/latex": [
       "8.63334875296852"
      ],
      "text/markdown": [
       "8.63334875296852"
      ],
      "text/plain": [
       "[1] 8.633349"
      ]
     },
     "metadata": {},
     "output_type": "display_data"
    },
    {
     "data": {
      "text/html": [
       "<table class=\"dataframe\">\n",
       "<caption>A tibble: 1 × 10</caption>\n",
       "<thead>\n",
       "\t<tr><th scope=col>estimate</th><th scope=col>estimate1</th><th scope=col>estimate2</th><th scope=col>statistic</th><th scope=col>p.value</th><th scope=col>parameter</th><th scope=col>conf.low</th><th scope=col>conf.high</th><th scope=col>method</th><th scope=col>alternative</th></tr>\n",
       "\t<tr><th scope=col>&lt;dbl&gt;</th><th scope=col>&lt;dbl&gt;</th><th scope=col>&lt;dbl&gt;</th><th scope=col>&lt;dbl&gt;</th><th scope=col>&lt;dbl&gt;</th><th scope=col>&lt;dbl&gt;</th><th scope=col>&lt;dbl&gt;</th><th scope=col>&lt;dbl&gt;</th><th scope=col>&lt;chr&gt;</th><th scope=col>&lt;chr&gt;</th></tr>\n",
       "</thead>\n",
       "<tbody>\n",
       "\t<tr><td>0.926261</td><td>7.269176</td><td>6.342915</td><td>8.633349</td><td>2.128731e-17</td><td>676.1635</td><td>0.7495446</td><td>Inf</td><td>Welch Two Sample t-test</td><td>greater</td></tr>\n",
       "</tbody>\n",
       "</table>\n"
      ],
      "text/latex": [
       "A tibble: 1 × 10\n",
       "\\begin{tabular}{llllllllll}\n",
       " estimate & estimate1 & estimate2 & statistic & p.value & parameter & conf.low & conf.high & method & alternative\\\\\n",
       " <dbl> & <dbl> & <dbl> & <dbl> & <dbl> & <dbl> & <dbl> & <dbl> & <chr> & <chr>\\\\\n",
       "\\hline\n",
       "\t 0.926261 & 7.269176 & 6.342915 & 8.633349 & 2.128731e-17 & 676.1635 & 0.7495446 & Inf & Welch Two Sample t-test & greater\\\\\n",
       "\\end{tabular}\n"
      ],
      "text/markdown": [
       "\n",
       "A tibble: 1 × 10\n",
       "\n",
       "| estimate &lt;dbl&gt; | estimate1 &lt;dbl&gt; | estimate2 &lt;dbl&gt; | statistic &lt;dbl&gt; | p.value &lt;dbl&gt; | parameter &lt;dbl&gt; | conf.low &lt;dbl&gt; | conf.high &lt;dbl&gt; | method &lt;chr&gt; | alternative &lt;chr&gt; |\n",
       "|---|---|---|---|---|---|---|---|---|---|\n",
       "| 0.926261 | 7.269176 | 6.342915 | 8.633349 | 2.128731e-17 | 676.1635 | 0.7495446 | Inf | Welch Two Sample t-test | greater |\n",
       "\n"
      ],
      "text/plain": [
       "  estimate estimate1 estimate2 statistic p.value      parameter conf.low \n",
       "1 0.926261 7.269176  6.342915  8.633349  2.128731e-17 676.1635  0.7495446\n",
       "  conf.high method                  alternative\n",
       "1 Inf       Welch Two Sample t-test greater    "
      ]
     },
     "metadata": {},
     "output_type": "display_data"
    }
   ],
   "source": [
    "# Determining the test statistic\n",
    "\n",
    "large_asteroids <- df |>\n",
    "    filter(asteroid_size == \"large\")\n",
    "\n",
    "small_asteroids <- df |>\n",
    "    filter(asteroid_size == \"small\")\n",
    "\n",
    "test_statistic <-\n",
    "    (mean_values$mean_Palermo_Scale[1] - mean_values$mean_Palermo_Scale[2])/sqrt(mean_values$standard_deviation[1]^2/mean_values$sample_size[1] + mean_values$standard_deviation[2]^2/mean_values$sample_size[2])\n",
    "test_statistic\n",
    "\n",
    "asteroidttest <-\n",
    "    tidy(\n",
    "        t.test(x = large_asteroids$Maximum.Palermo.Scale,\n",
    "               y = small_asteroids$Maximum.Palermo.Scale,\n",
    "               alternative = \"greater\"))\n",
    "\n",
    "asteroidttest"
   ]
  },
  {
   "cell_type": "markdown",
   "id": "e19a547f-681b-4232-a909-03065213341a",
   "metadata": {},
   "source": [
    "From the above table we see that we get a p-value of 2.128731e-17. With a sigificance level of 0.05, thi sp-value would mean that we reject the null hypothesis in favour of the alternative hypothesis. It is important to note that we are not accepting the alternative hypothesis. However we can reject that the absolute value of the polermo scale is the same for both large and small asteroids."
   ]
  },
  {
   "cell_type": "code",
   "execution_count": 74,
   "id": "8118d0c5-4712-42a2-8904-0d303be143e5",
   "metadata": {
    "tags": []
   },
   "outputs": [
    {
     "name": "stderr",
     "output_type": "stream",
     "text": [
      "Warning message:\n",
      "\"You have given `type = \"bootstrap\"`, but `type` is expected to be `\"permute\"`. This workflow is untested and the results may not mean what you think they mean.\"\n"
     ]
    },
    {
     "data": {
      "text/html": [
       "<table class=\"dataframe\">\n",
       "<caption>A infer: 6 × 2</caption>\n",
       "<thead>\n",
       "\t<tr><th scope=col>replicate</th><th scope=col>stat</th></tr>\n",
       "\t<tr><th scope=col>&lt;int&gt;</th><th scope=col>&lt;dbl&gt;</th></tr>\n",
       "</thead>\n",
       "<tbody>\n",
       "\t<tr><td>1</td><td>0.9746926</td></tr>\n",
       "\t<tr><td>2</td><td>0.8921599</td></tr>\n",
       "\t<tr><td>3</td><td>0.9296438</td></tr>\n",
       "\t<tr><td>4</td><td>0.8974665</td></tr>\n",
       "\t<tr><td>5</td><td>0.8761966</td></tr>\n",
       "\t<tr><td>6</td><td>1.1466677</td></tr>\n",
       "</tbody>\n",
       "</table>\n"
      ],
      "text/latex": [
       "A infer: 6 × 2\n",
       "\\begin{tabular}{ll}\n",
       " replicate & stat\\\\\n",
       " <int> & <dbl>\\\\\n",
       "\\hline\n",
       "\t 1 & 0.9746926\\\\\n",
       "\t 2 & 0.8921599\\\\\n",
       "\t 3 & 0.9296438\\\\\n",
       "\t 4 & 0.8974665\\\\\n",
       "\t 5 & 0.8761966\\\\\n",
       "\t 6 & 1.1466677\\\\\n",
       "\\end{tabular}\n"
      ],
      "text/markdown": [
       "\n",
       "A infer: 6 × 2\n",
       "\n",
       "| replicate &lt;int&gt; | stat &lt;dbl&gt; |\n",
       "|---|---|\n",
       "| 1 | 0.9746926 |\n",
       "| 2 | 0.8921599 |\n",
       "| 3 | 0.9296438 |\n",
       "| 4 | 0.8974665 |\n",
       "| 5 | 0.8761966 |\n",
       "| 6 | 1.1466677 |\n",
       "\n"
      ],
      "text/plain": [
       "  replicate stat     \n",
       "1 1         0.9746926\n",
       "2 2         0.8921599\n",
       "3 3         0.9296438\n",
       "4 4         0.8974665\n",
       "5 5         0.8761966\n",
       "6 6         1.1466677"
      ]
     },
     "metadata": {},
     "output_type": "display_data"
    },
    {
     "data": {
      "image/png": "[encoded data removed]",
      "text/plain": [
       "plot without title"
      ]
     },
     "metadata": {
      "image/png": {
       "height": 420,
       "width": 420
      }
     },
     "output_type": "display_data"
    }
   ],
   "source": [
    "### Bootstrap Distribution\n",
    "### We are taking 10,000 rep;icates of samples (selecting from our original data with replacement) to be able to get an estimate of how our \n",
    "### sampling distribution would look like\n",
    "\n",
    "set.seed(1)\n",
    "\n",
    "obs_diff_in_means <- \n",
    "   df %>% \n",
    "   specify(formula = Maximum.Palermo.Scale ~ asteroid_size) %>% \n",
    "   calculate(stat=\"diff in means\", order = c(\"large\", \"small\"))\n",
    "\n",
    "\n",
    "null_diff_in_means <- \n",
    "   df %>% \n",
    "   specify(formula = Maximum.Palermo.Scale ~ asteroid_size) %>% \n",
    "    hypothesize(null = \"independence\") %>% \n",
    "   generate(type=\"bootstrap\", reps = 1000) %>% \n",
    "   calculate(stat=\"diff in means\", order = c(\"large\", \"small\"))\n",
    "\n",
    "bootstrap_dist <- \n",
    "    null_diff_in_means %>% \n",
    "    ggplot() + \n",
    "    geom_histogram(aes(x=stat), bins = 15, color=\"white\") +\n",
    "    xlab(\"Difference in means values of Maximum Palermo Scale\") + \n",
    "    theme(text = element_text(size=15)) + \n",
    "    ggtitle(\"Bootstrapped sampling dist.\", subtitle = \"Mean Palermo Scale\")\n",
    "\n",
    "\n",
    "head(null_diff_in_means)\n",
    "bootstrap_dist"
   ]
  },
  {
   "cell_type": "markdown",
   "id": "e4eddbb3-8c4d-4fa1-98da-63685e8fa7b7",
   "metadata": {},
   "source": [
    "From the plot above it looks like our bootstrap follows a normal distribution as expecting the the mean approximately at 0.9 which is the same as what the difference in means was throughout our entire dataset"
   ]
  },
  {
   "cell_type": "code",
   "execution_count": 75,
   "id": "742fa0ff-3b1c-473c-abc5-907d705055f1",
   "metadata": {},
   "outputs": [
    {
     "name": "stdout",
     "output_type": "stream",
     "text": [
      "[1] \"80% Confidence Interval:\"\n"
     ]
    },
    {
     "data": {
      "text/html": [
       "<table class=\"dataframe\">\n",
       "<caption>A tibble: 1 × 2</caption>\n",
       "<thead>\n",
       "\t<tr><th scope=col>lower_ci</th><th scope=col>upper_ci</th></tr>\n",
       "\t<tr><th scope=col>&lt;dbl&gt;</th><th scope=col>&lt;dbl&gt;</th></tr>\n",
       "</thead>\n",
       "<tbody>\n",
       "\t<tr><td>0.7847065</td><td>1.055271</td></tr>\n",
       "</tbody>\n",
       "</table>\n"
      ],
      "text/latex": [
       "A tibble: 1 × 2\n",
       "\\begin{tabular}{ll}\n",
       " lower\\_ci & upper\\_ci\\\\\n",
       " <dbl> & <dbl>\\\\\n",
       "\\hline\n",
       "\t 0.7847065 & 1.055271\\\\\n",
       "\\end{tabular}\n"
      ],
      "text/markdown": [
       "\n",
       "A tibble: 1 × 2\n",
       "\n",
       "| lower_ci &lt;dbl&gt; | upper_ci &lt;dbl&gt; |\n",
       "|---|---|\n",
       "| 0.7847065 | 1.055271 |\n",
       "\n"
      ],
      "text/plain": [
       "  lower_ci  upper_ci\n",
       "1 0.7847065 1.055271"
      ]
     },
     "metadata": {},
     "output_type": "display_data"
    },
    {
     "name": "stdout",
     "output_type": "stream",
     "text": [
      "[1] \"95% Confidence Interval:\"\n"
     ]
    },
    {
     "data": {
      "text/html": [
       "<table class=\"dataframe\">\n",
       "<caption>A tibble: 1 × 2</caption>\n",
       "<thead>\n",
       "\t<tr><th scope=col>lower_ci</th><th scope=col>upper_ci</th></tr>\n",
       "\t<tr><th scope=col>&lt;dbl&gt;</th><th scope=col>&lt;dbl&gt;</th></tr>\n",
       "</thead>\n",
       "<tbody>\n",
       "\t<tr><td>0.7538397</td><td>1.088244</td></tr>\n",
       "</tbody>\n",
       "</table>\n"
      ],
      "text/latex": [
       "A tibble: 1 × 2\n",
       "\\begin{tabular}{ll}\n",
       " lower\\_ci & upper\\_ci\\\\\n",
       " <dbl> & <dbl>\\\\\n",
       "\\hline\n",
       "\t 0.7538397 & 1.088244\\\\\n",
       "\\end{tabular}\n"
      ],
      "text/markdown": [
       "\n",
       "A tibble: 1 × 2\n",
       "\n",
       "| lower_ci &lt;dbl&gt; | upper_ci &lt;dbl&gt; |\n",
       "|---|---|\n",
       "| 0.7538397 | 1.088244 |\n",
       "\n"
      ],
      "text/plain": [
       "  lower_ci  upper_ci\n",
       "1 0.7538397 1.088244"
      ]
     },
     "metadata": {},
     "output_type": "display_data"
    },
    {
     "name": "stdout",
     "output_type": "stream",
     "text": [
      "[1] \"99% Confidence Interval:\"\n"
     ]
    },
    {
     "data": {
      "text/html": [
       "<table class=\"dataframe\">\n",
       "<caption>A tibble: 1 × 2</caption>\n",
       "<thead>\n",
       "\t<tr><th scope=col>lower_ci</th><th scope=col>upper_ci</th></tr>\n",
       "\t<tr><th scope=col>&lt;dbl&gt;</th><th scope=col>&lt;dbl&gt;</th></tr>\n",
       "</thead>\n",
       "<tbody>\n",
       "\t<tr><td>0.6937215</td><td>1.184958</td></tr>\n",
       "</tbody>\n",
       "</table>\n"
      ],
      "text/latex": [
       "A tibble: 1 × 2\n",
       "\\begin{tabular}{ll}\n",
       " lower\\_ci & upper\\_ci\\\\\n",
       " <dbl> & <dbl>\\\\\n",
       "\\hline\n",
       "\t 0.6937215 & 1.184958\\\\\n",
       "\\end{tabular}\n"
      ],
      "text/markdown": [
       "\n",
       "A tibble: 1 × 2\n",
       "\n",
       "| lower_ci &lt;dbl&gt; | upper_ci &lt;dbl&gt; |\n",
       "|---|---|\n",
       "| 0.6937215 | 1.184958 |\n",
       "\n"
      ],
      "text/plain": [
       "  lower_ci  upper_ci\n",
       "1 0.6937215 1.184958"
      ]
     },
     "metadata": {},
     "output_type": "display_data"
    }
   ],
   "source": [
    "# Getting the 80% confidence interval of our bootstrap\n",
    "print(\"80% Confidence Interval:\")\n",
    "ci_80 <- \n",
    "    null_diff_in_means %>% \n",
    "    summarise(lower_ci = quantile(stat, 0.1), upper_ci = quantile(stat, 0.9))\n",
    "ci_80\n",
    "\n",
    "# Getting the 95% confidence interval of our bootstrap\n",
    "print(\"95% Confidence Interval:\")\n",
    "ci_95 <- \n",
    "    null_diff_in_means %>% \n",
    "    summarise(lower_ci = quantile(stat, 0.05), upper_ci = quantile(stat, 0.95))\n",
    "ci_95\n",
    "\n",
    "# Getting the 99% confidence interval of our bootstrap\n",
    "print(\"99% Confidence Interval:\")\n",
    "ci_99 <- \n",
    "    null_diff_in_means %>% \n",
    "    summarise(lower_ci = quantile(stat, 0.01), upper_ci = quantile(stat, 0.99))\n",
    "ci_99"
   ]
  },
  {
   "cell_type": "markdown",
   "id": "85b53809-af4c-4605-9830-9fa8fe49e9ed",
   "metadata": {},
   "source": [
    "We get the value of 3 different confidence intervals above (80%, 95%, 99%). What does this mean? If we take an infinite amount of samples, in 80% of them, the difference in the means of the two groups would lie with our 80% confidence inteval of (0.7847065, 1.055271). <br>\n",
    "The same interpretation goes for our 95% (0.7538397, 1.088244) and 99% (0.6937215, 1.184958) interval. <br>\n",
    "The biggest note to take from the confidence intervals is that even at the 99% confidence interval (the widest one), we still get a difference above 0. Hence our bootstrapping confidence intervals are suggesting that there is a positive difference in our palermo scale between large and small asteroids."
   ]
  },
  {
   "cell_type": "markdown",
   "id": "3d6ddd19-365b-4b10-8544-6b2231c6962d",
   "metadata": {},
   "source": [
    "### Discussion continued (Bootstrapping vs Asymptotics) <br>\n",
    "\n",
    "Both bootstrapping and asymptotics can be appropriate in different situations, depending on the nature of the data and the research question. Bootstrapping can be useful when the sample size is small or when the population distribution is unknown or non-normal. However in our case we have a very large sample size that has a normal distribution, suggesting that the population distribution is normal as well. Overall we found that the asymptotic method was computationally efficient and easier to implement and explain. However if our data set was small or not normal than bootstrapping would most likely give us a better estimate of the difference in means. <br>\n",
    "\n",
    "Additionally, bootstrapping relies on resampling from the original data, which means that any biases or errors in the original data will be propagated to the bootstrapped estimates. <br>\n",
    "\n",
    "However that being said, bootstrapping gave us a confidence interval from our many replicates of samples we pulled from our original dataset. This gave us a range for the difference in means at a certain confidence level rather than just a singular value which can be beneficial when working with important values such a the palermo scale. <br>\n",
    "\n",
    "Our bootstrapping method and asymptotics method both concluded that there is a difference in the palermo scale between large and small asteroids. This makes sense as all the assumptions were met for the asymptotics. <br>\n",
    "\n",
    "Overall bootstrapping may be more reliable as it does not depend on the distribution of the population. Hence even if our large sampole size does not represent the population distribution, bootstrapping results would still be significant whereas asymptotics would not"
   ]
  },
  {
   "cell_type": "markdown",
   "id": "d8cf6bf3-2771-46cc-8b2e-ca36a0451bf7",
   "metadata": {},
   "source": [
    "Overall the results is what we expected. Smaller asteroids are more likely to hit Earth and cause damage than large asteroids. Both the bootstrap methods and asymptotic method suggest this result. <br>\n",
    "\n",
    "That being said, we are only rejecting the null hypothesis and not accepting the alternative hypothesis and hence a lot more research can be done on this topic such as what else can influence the palermo scale and what can be done to prevent cases of dangerous palermo scaled asteroids and detected. <br>\n",
    "\n",
    "Additionally to that, even further research can be done such as could this analysis apply to other objects floating above Earth, like the 100 trillion trash and satellites (Kluger 2023), that have an equal chance of colliding and causing damage to Earth? "
   ]
  },
  {
   "cell_type": "markdown",
   "id": "9247cd5a-843e-4ee5-b043-14bdf354b50a",
   "metadata": {},
   "source": [
    "### References"
   ]
  },
  {
   "cell_type": "markdown",
   "id": "fbe5651b-e9e2-4442-9d51-54e221d8a69b",
   "metadata": {},
   "source": [
    "Kluger, Jeffrey. “Scientists Sound Alarm over a Growing Trash Problem in Space.” Time, Time, 13 Mar. 2023, <br> https://time.com/6262389/space-junk-increasing-problem/.  \n",
    "\n",
    "“Palermo Technical Impact Hazard Scale.” NASA, NASA, https://cneos.jpl.nasa.gov/sentry/palermo_scale.html \n",
    "\n",
    "\n",
    "“Why Study Impact Craters?: AMNH.” American Museum of Natural History, https://www.amnh.org/exhibitions/permanent/meteorites/meteorite-impacts/earth-impacts/why-study-impact-craters#:~:text=Craters%20are%20windows%20into%20the,geological%20history%20of%20those%20bodies.   \n",
    "\n",
    "Yeomans, Donald K. “Why Study Asteroids?” NASA, NASA, April. 1998, https://ssd.jpl.nasa.gov/sb/why_asteroids.html#:~:text=The%20scientific%20interest%20in%20asteroids,Earth's%20biosphere%20in%20the%20past.   \n"
   ]
  },
  {
   "cell_type": "code",
   "execution_count": null,
   "id": "02366db3-c772-47b7-8f21-4d9483535524",
   "metadata": {},
   "outputs": [],
   "source": []
  }
 ],
 "metadata": {
  "kernelspec": {
   "display_name": "R",
   "language": "R",
   "name": "ir"
  },
  "language_info": {
   "codemirror_mode": "r",
   "file_extension": ".r",
   "mimetype": "text/x-r-source",
   "name": "R",
   "pygments_lexer": "r",
   "version": "4.1.2"
  }
 },
 "nbformat": 4,
 "nbformat_minor": 5
}
