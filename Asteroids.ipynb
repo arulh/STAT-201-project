{
 "cells": [
  {
   "cell_type": "markdown",
   "id": "2ae7870d-3eae-4fd6-ac1a-c8345f311fbd",
   "metadata": {},
   "source": [
    "# Difference in Palermo Scale between Large and Small Asteroids"
   ]
  },
  {
   "cell_type": "markdown",
   "id": "341d4c40-cb9d-4787-aef0-981d62123441",
   "metadata": {},
   "source": [
    "### Introduction"
   ]
  },
  {
   "cell_type": "markdown",
   "id": "7f615976-0901-4ef0-bec0-2d4bbed80265",
   "metadata": {},
   "source": [
    "Asteroids, meteorites flying through space, are important to track as the ones that have collided with the earth in the past have critically changed the Earth’s biosphere (Yeomans 1998) and its craters have been important analytical tools to explain our solar systems past (AMNH n.a). With the danger that a large asteroid could bring to earth, planetary defence analytics is important, and knowing out to prioritise which near-earth objects to look out for is essential in a time crunch (Yeomans 1998). Our inferential question is whether the magnitude of an asteroid affects the Palermo_Scale of the asteriod. The palermo scale is a logarithmic scale used by astronomers to rate the potential hazard of impact of a near-Earth object. It combines two types of data—probability of impact and estimated kinetic yield—into a single \"hazard\" value. Given our question, the population of interest will be the asteroids that have currently been prioritised analytically to have a possibility of intersecting with the earth’s trajectory over a 100 year period. Our null hypothesis is that there is no difference in the Palermo scale between large and small asteroids. We will be splitting up the asteroids into two magnitude groups from the data we collected from the Possible Asteroid Impacts with Earth dataset posted on Kaggle.\n",
    "\n",
    "\n"
   ]
  },
  {
   "cell_type": "markdown",
   "id": "65abc81c-12a6-47c2-976c-1375737989b5",
   "metadata": {},
   "source": [
    "### Preliminary Results"
   ]
  },
  {
   "cell_type": "code",
   "execution_count": 38,
   "id": "c94a8015-25d5-4baf-9cb4-2b2f305b3ce3",
   "metadata": {},
   "outputs": [],
   "source": [
    "library(tidyverse)\n",
    "library(broom)\n",
    "library(infer)\n"
   ]
  },
  {
   "cell_type": "code",
   "execution_count": 39,
   "id": "774145cc-1c8c-4a1d-b6de-188b39b2af65",
   "metadata": {},
   "outputs": [],
   "source": [
    "url <- 'https://raw.githubusercontent.com/arulh/STAT-201-project/main/data/impacts.csv'\n",
    "df <- read.csv(\n",
    "    url\n",
    ")\n"
   ]
  },
  {
   "cell_type": "code",
   "execution_count": 40,
   "id": "a2ce4fbd-c9ec-47cb-86d7-6eef75c6ff55",
   "metadata": {},
   "outputs": [
    {
     "data": {
      "text/html": [
       "<table class=\"dataframe\">\n",
       "<caption>A data.frame: 6 × 11</caption>\n",
       "<thead>\n",
       "\t<tr><th></th><th scope=col>Object.Name</th><th scope=col>Period.Start</th><th scope=col>Period.End</th><th scope=col>Possible.Impacts</th><th scope=col>Cumulative.Impact.Probability</th><th scope=col>Asteroid.Velocity</th><th scope=col>Asteroid.Magnitude</th><th scope=col>Asteroid.Diameter..km.</th><th scope=col>Cumulative.Palermo.Scale</th><th scope=col>Maximum.Palermo.Scale</th><th scope=col>Maximum.Torino.Scale</th></tr>\n",
       "\t<tr><th></th><th scope=col>&lt;chr&gt;</th><th scope=col>&lt;int&gt;</th><th scope=col>&lt;int&gt;</th><th scope=col>&lt;int&gt;</th><th scope=col>&lt;dbl&gt;</th><th scope=col>&lt;dbl&gt;</th><th scope=col>&lt;dbl&gt;</th><th scope=col>&lt;dbl&gt;</th><th scope=col>&lt;dbl&gt;</th><th scope=col>&lt;dbl&gt;</th><th scope=col>&lt;chr&gt;</th></tr>\n",
       "</thead>\n",
       "<tbody>\n",
       "\t<tr><th scope=row>1</th><td>2006 WP1  </td><td>2017</td><td>2017</td><td> 1</td><td>5.2e-09</td><td>17.77</td><td>28.3</td><td>0.007</td><td>-8.31</td><td>-8.31</td><td>0</td></tr>\n",
       "\t<tr><th scope=row>2</th><td>2013 YB   </td><td>2017</td><td>2046</td><td>23</td><td>7.6e-05</td><td> 8.98</td><td>31.4</td><td>0.002</td><td>-6.60</td><td>-6.96</td><td>0</td></tr>\n",
       "\t<tr><th scope=row>3</th><td>2008 US   </td><td>2017</td><td>2062</td><td>30</td><td>1.6e-05</td><td>18.33</td><td>31.4</td><td>0.002</td><td>-6.48</td><td>-6.87</td><td>0</td></tr>\n",
       "\t<tr><th scope=row>4</th><td>2010 VR139</td><td>2017</td><td>2076</td><td>24</td><td>2.0e-07</td><td> 4.99</td><td>26.7</td><td>0.016</td><td>-6.83</td><td>-6.95</td><td>0</td></tr>\n",
       "\t<tr><th scope=row>5</th><td>2015 ME131</td><td>2017</td><td>2096</td><td>85</td><td>2.3e-08</td><td>19.46</td><td>19.2</td><td>0.497</td><td>-3.85</td><td>-4.30</td><td>0</td></tr>\n",
       "\t<tr><th scope=row>6</th><td>2010 XB73 </td><td>2017</td><td>2110</td><td>55</td><td>2.8e-07</td><td> 5.98</td><td>22.5</td><td>0.110</td><td>-5.03</td><td>-5.51</td><td>0</td></tr>\n",
       "</tbody>\n",
       "</table>\n"
      ],
      "text/latex": [
       "A data.frame: 6 × 11\n",
       "\\begin{tabular}{r|lllllllllll}\n",
       "  & Object.Name & Period.Start & Period.End & Possible.Impacts & Cumulative.Impact.Probability & Asteroid.Velocity & Asteroid.Magnitude & Asteroid.Diameter..km. & Cumulative.Palermo.Scale & Maximum.Palermo.Scale & Maximum.Torino.Scale\\\\\n",
       "  & <chr> & <int> & <int> & <int> & <dbl> & <dbl> & <dbl> & <dbl> & <dbl> & <dbl> & <chr>\\\\\n",
       "\\hline\n",
       "\t1 & 2006 WP1   & 2017 & 2017 &  1 & 5.2e-09 & 17.77 & 28.3 & 0.007 & -8.31 & -8.31 & 0\\\\\n",
       "\t2 & 2013 YB    & 2017 & 2046 & 23 & 7.6e-05 &  8.98 & 31.4 & 0.002 & -6.60 & -6.96 & 0\\\\\n",
       "\t3 & 2008 US    & 2017 & 2062 & 30 & 1.6e-05 & 18.33 & 31.4 & 0.002 & -6.48 & -6.87 & 0\\\\\n",
       "\t4 & 2010 VR139 & 2017 & 2076 & 24 & 2.0e-07 &  4.99 & 26.7 & 0.016 & -6.83 & -6.95 & 0\\\\\n",
       "\t5 & 2015 ME131 & 2017 & 2096 & 85 & 2.3e-08 & 19.46 & 19.2 & 0.497 & -3.85 & -4.30 & 0\\\\\n",
       "\t6 & 2010 XB73  & 2017 & 2110 & 55 & 2.8e-07 &  5.98 & 22.5 & 0.110 & -5.03 & -5.51 & 0\\\\\n",
       "\\end{tabular}\n"
      ],
      "text/markdown": [
       "\n",
       "A data.frame: 6 × 11\n",
       "\n",
       "| <!--/--> | Object.Name &lt;chr&gt; | Period.Start &lt;int&gt; | Period.End &lt;int&gt; | Possible.Impacts &lt;int&gt; | Cumulative.Impact.Probability &lt;dbl&gt; | Asteroid.Velocity &lt;dbl&gt; | Asteroid.Magnitude &lt;dbl&gt; | Asteroid.Diameter..km. &lt;dbl&gt; | Cumulative.Palermo.Scale &lt;dbl&gt; | Maximum.Palermo.Scale &lt;dbl&gt; | Maximum.Torino.Scale &lt;chr&gt; |\n",
       "|---|---|---|---|---|---|---|---|---|---|---|---|\n",
       "| 1 | 2006 WP1   | 2017 | 2017 |  1 | 5.2e-09 | 17.77 | 28.3 | 0.007 | -8.31 | -8.31 | 0 |\n",
       "| 2 | 2013 YB    | 2017 | 2046 | 23 | 7.6e-05 |  8.98 | 31.4 | 0.002 | -6.60 | -6.96 | 0 |\n",
       "| 3 | 2008 US    | 2017 | 2062 | 30 | 1.6e-05 | 18.33 | 31.4 | 0.002 | -6.48 | -6.87 | 0 |\n",
       "| 4 | 2010 VR139 | 2017 | 2076 | 24 | 2.0e-07 |  4.99 | 26.7 | 0.016 | -6.83 | -6.95 | 0 |\n",
       "| 5 | 2015 ME131 | 2017 | 2096 | 85 | 2.3e-08 | 19.46 | 19.2 | 0.497 | -3.85 | -4.30 | 0 |\n",
       "| 6 | 2010 XB73  | 2017 | 2110 | 55 | 2.8e-07 |  5.98 | 22.5 | 0.110 | -5.03 | -5.51 | 0 |\n",
       "\n"
      ],
      "text/plain": [
       "  Object.Name Period.Start Period.End Possible.Impacts\n",
       "1 2006 WP1    2017         2017        1              \n",
       "2 2013 YB     2017         2046       23              \n",
       "3 2008 US     2017         2062       30              \n",
       "4 2010 VR139  2017         2076       24              \n",
       "5 2015 ME131  2017         2096       85              \n",
       "6 2010 XB73   2017         2110       55              \n",
       "  Cumulative.Impact.Probability Asteroid.Velocity Asteroid.Magnitude\n",
       "1 5.2e-09                       17.77             28.3              \n",
       "2 7.6e-05                        8.98             31.4              \n",
       "3 1.6e-05                       18.33             31.4              \n",
       "4 2.0e-07                        4.99             26.7              \n",
       "5 2.3e-08                       19.46             19.2              \n",
       "6 2.8e-07                        5.98             22.5              \n",
       "  Asteroid.Diameter..km. Cumulative.Palermo.Scale Maximum.Palermo.Scale\n",
       "1 0.007                  -8.31                    -8.31                \n",
       "2 0.002                  -6.60                    -6.96                \n",
       "3 0.002                  -6.48                    -6.87                \n",
       "4 0.016                  -6.83                    -6.95                \n",
       "5 0.497                  -3.85                    -4.30                \n",
       "6 0.110                  -5.03                    -5.51                \n",
       "  Maximum.Torino.Scale\n",
       "1 0                   \n",
       "2 0                   \n",
       "3 0                   \n",
       "4 0                   \n",
       "5 0                   \n",
       "6 0                   "
      ]
     },
     "metadata": {},
     "output_type": "display_data"
    }
   ],
   "source": [
    "head(df)"
   ]
  },
  {
   "cell_type": "markdown",
   "id": "7d376a5b-ced6-4108-904c-dc5edb929825",
   "metadata": {},
   "source": [
    "Here we are creating a new column called asteroid_size. The values are \"large\" if the Asteroid is larger than the median asteroid magnitude and \"small\" if smaller or equal to the Median Magnitude. This is needed when coming up with our hypothesis test."
   ]
  },
  {
   "cell_type": "code",
   "execution_count": 41,
   "id": "d772e560-4927-48ad-9ae9-b817e6d167ad",
   "metadata": {},
   "outputs": [
    {
     "data": {
      "text/html": [
       "26.4"
      ],
      "text/latex": [
       "26.4"
      ],
      "text/markdown": [
       "26.4"
      ],
      "text/plain": [
       "[1] 26.4"
      ]
     },
     "metadata": {},
     "output_type": "display_data"
    },
    {
     "data": {
      "text/html": [
       "<table class=\"dataframe\">\n",
       "<caption>A data.frame: 6 × 2</caption>\n",
       "<thead>\n",
       "\t<tr><th></th><th scope=col>asteroid_size</th><th scope=col>Maximum.Palermo.Scale</th></tr>\n",
       "\t<tr><th></th><th scope=col>&lt;chr&gt;</th><th scope=col>&lt;dbl&gt;</th></tr>\n",
       "</thead>\n",
       "<tbody>\n",
       "\t<tr><th scope=row>1</th><td>large</td><td>8.31</td></tr>\n",
       "\t<tr><th scope=row>2</th><td>large</td><td>6.96</td></tr>\n",
       "\t<tr><th scope=row>3</th><td>large</td><td>6.87</td></tr>\n",
       "\t<tr><th scope=row>4</th><td>large</td><td>6.95</td></tr>\n",
       "\t<tr><th scope=row>5</th><td>small</td><td>4.30</td></tr>\n",
       "\t<tr><th scope=row>6</th><td>small</td><td>5.51</td></tr>\n",
       "</tbody>\n",
       "</table>\n"
      ],
      "text/latex": [
       "A data.frame: 6 × 2\n",
       "\\begin{tabular}{r|ll}\n",
       "  & asteroid\\_size & Maximum.Palermo.Scale\\\\\n",
       "  & <chr> & <dbl>\\\\\n",
       "\\hline\n",
       "\t1 & large & 8.31\\\\\n",
       "\t2 & large & 6.96\\\\\n",
       "\t3 & large & 6.87\\\\\n",
       "\t4 & large & 6.95\\\\\n",
       "\t5 & small & 4.30\\\\\n",
       "\t6 & small & 5.51\\\\\n",
       "\\end{tabular}\n"
      ],
      "text/markdown": [
       "\n",
       "A data.frame: 6 × 2\n",
       "\n",
       "| <!--/--> | asteroid_size &lt;chr&gt; | Maximum.Palermo.Scale &lt;dbl&gt; |\n",
       "|---|---|---|\n",
       "| 1 | large | 8.31 |\n",
       "| 2 | large | 6.96 |\n",
       "| 3 | large | 6.87 |\n",
       "| 4 | large | 6.95 |\n",
       "| 5 | small | 4.30 |\n",
       "| 6 | small | 5.51 |\n",
       "\n"
      ],
      "text/plain": [
       "  asteroid_size Maximum.Palermo.Scale\n",
       "1 large         8.31                 \n",
       "2 large         6.96                 \n",
       "3 large         6.87                 \n",
       "4 large         6.95                 \n",
       "5 small         4.30                 \n",
       "6 small         5.51                 "
      ]
     },
     "metadata": {},
     "output_type": "display_data"
    }
   ],
   "source": [
    "median_magnitude <- median(df$Asteroid.Magnitude)\n",
    "median_magnitude\n",
    "\n",
    "df <- df %>%\n",
    "    mutate(asteroid_size = if_else(df$Asteroid.Magnitude > median_magnitude, 'large', 'small')) %>%\n",
    "    mutate(Maximum.Palermo.Scale = abs(Maximum.Palermo.Scale)) %>%\n",
    "    select(asteroid_size, Maximum.Palermo.Scale) \n",
    "\n",
    "head(df)"
   ]
  },
  {
   "cell_type": "code",
   "execution_count": 42,
   "id": "ccc3a274-ac43-4c68-b710-bf57450f2052",
   "metadata": {},
   "outputs": [],
   "source": [
    "### Getting Location and Scale Parameters"
   ]
  },
  {
   "cell_type": "code",
   "execution_count": 43,
   "id": "fd0e9226-4ca5-4417-a738-21ae3e45b7ff",
   "metadata": {},
   "outputs": [
    {
     "data": {
      "text/html": [
       "<table class=\"dataframe\">\n",
       "<caption>A tibble: 2 × 9</caption>\n",
       "<thead>\n",
       "\t<tr><th scope=col>asteroid_size</th><th scope=col>sample_size</th><th scope=col>mean_Palermo_Scale</th><th scope=col>median_Palermo_Scale</th><th scope=col>mode_Palermo_Scale</th><th scope=col>twenty_fifth_percentile</th><th scope=col>seventy_fifth_percentile</th><th scope=col>standard_deviation</th><th scope=col>inter_quartile_range_50</th></tr>\n",
       "\t<tr><th scope=col>&lt;chr&gt;</th><th scope=col>&lt;int&gt;</th><th scope=col>&lt;dbl&gt;</th><th scope=col>&lt;dbl&gt;</th><th scope=col>&lt;dbl&gt;</th><th scope=col>&lt;dbl&gt;</th><th scope=col>&lt;dbl&gt;</th><th scope=col>&lt;dbl&gt;</th><th scope=col>&lt;dbl&gt;</th></tr>\n",
       "</thead>\n",
       "<tbody>\n",
       "\t<tr><td>large</td><td>340</td><td>7.269176</td><td>7.25</td><td>7.50</td><td>6.35</td><td>8.0825</td><td>1.335189</td><td>1.7325</td></tr>\n",
       "\t<tr><td>small</td><td>343</td><td>6.342915</td><td>6.34</td><td>6.43</td><td>5.38</td><td>7.3100</td><td>1.466209</td><td>1.9300</td></tr>\n",
       "</tbody>\n",
       "</table>\n"
      ],
      "text/latex": [
       "A tibble: 2 × 9\n",
       "\\begin{tabular}{lllllllll}\n",
       " asteroid\\_size & sample\\_size & mean\\_Palermo\\_Scale & median\\_Palermo\\_Scale & mode\\_Palermo\\_Scale & twenty\\_fifth\\_percentile & seventy\\_fifth\\_percentile & standard\\_deviation & inter\\_quartile\\_range\\_50\\\\\n",
       " <chr> & <int> & <dbl> & <dbl> & <dbl> & <dbl> & <dbl> & <dbl> & <dbl>\\\\\n",
       "\\hline\n",
       "\t large & 340 & 7.269176 & 7.25 & 7.50 & 6.35 & 8.0825 & 1.335189 & 1.7325\\\\\n",
       "\t small & 343 & 6.342915 & 6.34 & 6.43 & 5.38 & 7.3100 & 1.466209 & 1.9300\\\\\n",
       "\\end{tabular}\n"
      ],
      "text/markdown": [
       "\n",
       "A tibble: 2 × 9\n",
       "\n",
       "| asteroid_size &lt;chr&gt; | sample_size &lt;int&gt; | mean_Palermo_Scale &lt;dbl&gt; | median_Palermo_Scale &lt;dbl&gt; | mode_Palermo_Scale &lt;dbl&gt; | twenty_fifth_percentile &lt;dbl&gt; | seventy_fifth_percentile &lt;dbl&gt; | standard_deviation &lt;dbl&gt; | inter_quartile_range_50 &lt;dbl&gt; |\n",
       "|---|---|---|---|---|---|---|---|---|\n",
       "| large | 340 | 7.269176 | 7.25 | 7.50 | 6.35 | 8.0825 | 1.335189 | 1.7325 |\n",
       "| small | 343 | 6.342915 | 6.34 | 6.43 | 5.38 | 7.3100 | 1.466209 | 1.9300 |\n",
       "\n"
      ],
      "text/plain": [
       "  asteroid_size sample_size mean_Palermo_Scale median_Palermo_Scale\n",
       "1 large         340         7.269176           7.25                \n",
       "2 small         343         6.342915           6.34                \n",
       "  mode_Palermo_Scale twenty_fifth_percentile seventy_fifth_percentile\n",
       "1 7.50               6.35                    8.0825                  \n",
       "2 6.43               5.38                    7.3100                  \n",
       "  standard_deviation inter_quartile_range_50\n",
       "1 1.335189           1.7325                 \n",
       "2 1.466209           1.9300                 "
      ]
     },
     "metadata": {},
     "output_type": "display_data"
    }
   ],
   "source": [
    "# Getting the mean Palermo Scale for the two groups (large and small asteroid)\n",
    "\n",
    "getmode <- function(v) {\n",
    "   uniqv <- unique(v)\n",
    "   uniqv[which.max(tabulate(match(v, uniqv)))]\n",
    "}\n",
    "\n",
    "\n",
    "\n",
    "mean_values <- df %>%\n",
    "    group_by(asteroid_size) %>%\n",
    "    summarize(sample_size = n(),\n",
    "            mean_Palermo_Scale = mean(Maximum.Palermo.Scale),\n",
    "             median_Palermo_Scale = median(Maximum.Palermo.Scale),\n",
    "             mode_Palermo_Scale = getmode(Maximum.Palermo.Scale),\n",
    "             twenty_fifth_percentile = quantile(Maximum.Palermo.Scale, probs = .25),\n",
    "             seventy_fifth_percentile = quantile(Maximum.Palermo.Scale, probs = .75),\n",
    "             standard_deviation = sd(Maximum.Palermo.Scale),\n",
    "             inter_quartile_range_50 = seventy_fifth_percentile - twenty_fifth_percentile)\n",
    "\n",
    "mean_values\n"
   ]
  },
  {
   "cell_type": "code",
   "execution_count": 44,
   "id": "56ea49d7-0828-411b-aef2-4010a221b8c7",
   "metadata": {},
   "outputs": [],
   "source": [
    "## Getting Histogram for both large and small asteroids"
   ]
  },
  {
   "cell_type": "code",
   "execution_count": 45,
   "id": "95ff6a58-db65-4968-bde2-d21a41259d61",
   "metadata": {},
   "outputs": [
    {
     "data": {
      "image/png": "[encoded data removed]",
      "text/plain": [
       "plot without title"
      ]
     },
     "metadata": {
      "image/png": {
       "height": 420,
       "width": 420
      }
     },
     "output_type": "display_data"
    }
   ],
   "source": [
    "histogram <- \n",
    "    df %>% \n",
    "    ggplot() + \n",
    "    geom_histogram(aes(x=Maximum.Palermo.Scale), binwidth = 0.3, color=\"white\") +\n",
    "    xlab(\"Maximum Palermo Scale\") + \n",
    "    theme(text = element_text(size=25)) + \n",
    "    ggtitle(\"Maximum Palermo Scale Histogram\")\n",
    "\n",
    "histogram"
   ]
  },
  {
   "cell_type": "code",
   "execution_count": 46,
   "id": "93b4e4e7-7589-4c0e-a718-8c4c60c4ec5b",
   "metadata": {},
   "outputs": [],
   "source": [
    "## Getting Boxplot for both large and small asteroids"
   ]
  },
  {
   "cell_type": "code",
   "execution_count": 47,
   "id": "d436d492-272e-4d17-8a41-336189c4b8f3",
   "metadata": {},
   "outputs": [
    {
     "data": {
      "image/png": "[encoded data removed]",
      "text/plain": [
       "plot without title"
      ]
     },
     "metadata": {
      "image/png": {
       "height": 420,
       "width": 420
      }
     },
     "output_type": "display_data"
    }
   ],
   "source": [
    "boxplots <- \n",
    "   df %>%  \n",
    "   ggplot(aes(x = asteroid_size, y = Maximum.Palermo.Scale)) + \n",
    "   geom_boxplot() + \n",
    "   ylab(\"Maximum Palermo Scale\") +\n",
    "   ggtitle(\"Palermo Scale by Asteroid Size\") +\n",
    "    xlab(\"Asteroid Size\") +\n",
    "   theme(text = element_text(size=25))\n",
    "\n",
    "boxplots"
   ]
  },
  {
   "cell_type": "code",
   "execution_count": 48,
   "id": "92f70ee5-eaf4-43bd-b3a0-5153c1a30e1a",
   "metadata": {},
   "outputs": [
    {
     "data": {
      "image/png": "[encoded data removed]",
      "text/plain": [
       "plot without title"
      ]
     },
     "metadata": {
      "image/png": {
       "height": 420,
       "width": 420
      }
     },
     "output_type": "display_data"
    },
    {
     "data": {
      "image/png": "[encoded data removed]",
      "text/plain": [
       "plot without title"
      ]
     },
     "metadata": {
      "image/png": {
       "height": 420,
       "width": 420
      }
     },
     "output_type": "display_data"
    }
   ],
   "source": [
    "histogram_small_asteroid <- \n",
    "    df %>% \n",
    "    filter(asteroid_size == \"small\") %>%\n",
    "    ggplot() + \n",
    "    geom_histogram(aes(x=Maximum.Palermo.Scale), binwidth = 0.3, color=\"white\") +\n",
    "    xlab(\"Maximum Palermo Scale\") + \n",
    "    theme(text = element_text(size=25)) + \n",
    "    ggtitle(\"Palermo Scale Histogram\", subtitle = \"Small Asteroids\")\n",
    "\n",
    "\n",
    "histogram_large_asteroid <- \n",
    "    df %>% \n",
    "    filter(asteroid_size == \"large\") %>%\n",
    "    ggplot() + \n",
    "    geom_histogram(aes(x=Maximum.Palermo.Scale), binwidth = 0.3, color=\"white\") +\n",
    "    xlab(\"Maximum Palermo Scale\") + \n",
    "    theme(text = element_text(size=25)) + \n",
    "    ggtitle(\"Palermo Scale Histogram\", subtitle = \"Large Asteroids\")\n",
    "\n",
    "histogram_small_asteroid\n",
    "histogram_large_asteroid\n",
    "\n"
   ]
  },
  {
   "cell_type": "code",
   "execution_count": 49,
   "id": "86931d67-eefc-4ef6-9b1d-ea968b72e2ca",
   "metadata": {},
   "outputs": [],
   "source": [
    "### Bootstrap Distribution"
   ]
  },
  {
   "cell_type": "code",
   "execution_count": 50,
   "id": "b7593cc9-265e-4262-a471-a703cfd9c147",
   "metadata": {},
   "outputs": [
    {
     "data": {
      "image/png": "[encoded data removed]",
      "text/plain": [
       "plot without title"
      ]
     },
     "metadata": {
      "image/png": {
       "height": 420,
       "width": 420
      }
     },
     "output_type": "display_data"
    }
   ],
   "source": [
    "set.seed(1)\n",
    "\n",
    "sample_dist <- \n",
    "    df %>% \n",
    "    specify(response = Maximum.Palermo.Scale) %>% \n",
    "    generate(type = \"bootstrap\", reps = 10000) %>% \n",
    "    calculate(stat = \"mean\")\n",
    "\n",
    "bootstrap_dist <- \n",
    "    sample_dist %>% \n",
    "    ggplot() + \n",
    "    geom_histogram(aes(x=stat), bins = 15, color=\"white\") +\n",
    "    xlab(\"mean values of Maximum Palermo Scale\") + \n",
    "    theme(text = element_text(size=25)) + \n",
    "    ggtitle(\"Bootstrapped sampling dist.\", subtitle = \"Mean Palermo Scale\")\n",
    "# your code here\n",
    "\n",
    "bootstrap_dist"
   ]
  },
  {
   "cell_type": "markdown",
   "id": "054c9866-20f4-4198-ac4e-6c337caa3f49",
   "metadata": {},
   "source": [
    "From the maximum Palermo scale of large and small asteroids, we will perform a hypothesis test to conclude whether the large asteroid has a larger chance of impact on the earth than smaller asteroids:\n",
    "\n",
    "The two hypothesis are:\n",
    "\n",
    "- $H_0: \\mu_{large} - \\mu_{small} = 0$\n",
    "- $H_a: \\mu_{large} - \\mu_{small} > 0$\n",
    "\n",
    "Since the asteroids are different and independent of each other, we will be performing a two-sample t-test on each large or small asteroids.\n"
   ]
  },
  {
   "cell_type": "code",
   "execution_count": 53,
   "id": "74b5d598-bde6-4541-8750-fca05d407214",
   "metadata": {},
   "outputs": [
    {
     "data": {
      "text/html": [
       "8.63334875296852"
      ],
      "text/latex": [
       "8.63334875296852"
      ],
      "text/markdown": [
       "8.63334875296852"
      ],
      "text/plain": [
       "[1] 8.633349"
      ]
     },
     "metadata": {},
     "output_type": "display_data"
    },
    {
     "data": {
      "text/html": [
       "<table class=\"dataframe\">\n",
       "<caption>A tibble: 1 × 10</caption>\n",
       "<thead>\n",
       "\t<tr><th scope=col>estimate</th><th scope=col>estimate1</th><th scope=col>estimate2</th><th scope=col>statistic</th><th scope=col>p.value</th><th scope=col>parameter</th><th scope=col>conf.low</th><th scope=col>conf.high</th><th scope=col>method</th><th scope=col>alternative</th></tr>\n",
       "\t<tr><th scope=col>&lt;dbl&gt;</th><th scope=col>&lt;dbl&gt;</th><th scope=col>&lt;dbl&gt;</th><th scope=col>&lt;dbl&gt;</th><th scope=col>&lt;dbl&gt;</th><th scope=col>&lt;dbl&gt;</th><th scope=col>&lt;dbl&gt;</th><th scope=col>&lt;dbl&gt;</th><th scope=col>&lt;chr&gt;</th><th scope=col>&lt;chr&gt;</th></tr>\n",
       "</thead>\n",
       "<tbody>\n",
       "\t<tr><td>0.926261</td><td>7.269176</td><td>6.342915</td><td>8.633349</td><td>2.128731e-17</td><td>676.1635</td><td>0.7495446</td><td>Inf</td><td>Welch Two Sample t-test</td><td>greater</td></tr>\n",
       "</tbody>\n",
       "</table>\n"
      ],
      "text/latex": [
       "A tibble: 1 × 10\n",
       "\\begin{tabular}{llllllllll}\n",
       " estimate & estimate1 & estimate2 & statistic & p.value & parameter & conf.low & conf.high & method & alternative\\\\\n",
       " <dbl> & <dbl> & <dbl> & <dbl> & <dbl> & <dbl> & <dbl> & <dbl> & <chr> & <chr>\\\\\n",
       "\\hline\n",
       "\t 0.926261 & 7.269176 & 6.342915 & 8.633349 & 2.128731e-17 & 676.1635 & 0.7495446 & Inf & Welch Two Sample t-test & greater\\\\\n",
       "\\end{tabular}\n"
      ],
      "text/markdown": [
       "\n",
       "A tibble: 1 × 10\n",
       "\n",
       "| estimate &lt;dbl&gt; | estimate1 &lt;dbl&gt; | estimate2 &lt;dbl&gt; | statistic &lt;dbl&gt; | p.value &lt;dbl&gt; | parameter &lt;dbl&gt; | conf.low &lt;dbl&gt; | conf.high &lt;dbl&gt; | method &lt;chr&gt; | alternative &lt;chr&gt; |\n",
       "|---|---|---|---|---|---|---|---|---|---|\n",
       "| 0.926261 | 7.269176 | 6.342915 | 8.633349 | 2.128731e-17 | 676.1635 | 0.7495446 | Inf | Welch Two Sample t-test | greater |\n",
       "\n"
      ],
      "text/plain": [
       "  estimate estimate1 estimate2 statistic p.value      parameter conf.low \n",
       "1 0.926261 7.269176  6.342915  8.633349  2.128731e-17 676.1635  0.7495446\n",
       "  conf.high method                  alternative\n",
       "1 Inf       Welch Two Sample t-test greater    "
      ]
     },
     "metadata": {},
     "output_type": "display_data"
    }
   ],
   "source": [
    "# Determining the test statistic\n",
    "\n",
    "large_asteroids <- df |>\n",
    "    filter(asteroid_size == \"large\")\n",
    "\n",
    "small_asteroids <- df |>\n",
    "    filter(asteroid_size == \"small\")\n",
    "\n",
    "test_statistic <-\n",
    "    (mean_values$mean_Palermo_Scale[1] - mean_values$mean_Palermo_Scale[2])/sqrt(mean_values$standard_deviation[1]^2/mean_values$sample_size[1] + mean_values$standard_deviation[2]^2/mean_values$sample_size[2])\n",
    "test_statistic\n",
    "\n",
    "asteroidttest <-\n",
    "    tidy(\n",
    "        t.test(x = large_asteroids$Maximum.Palermo.Scale,\n",
    "               y = small_asteroids$Maximum.Palermo.Scale,\n",
    "               alternative = \"greater\"))\n",
    "\n",
    "asteroidttest"
   ]
  },
  {
   "cell_type": "code",
   "execution_count": 54,
   "id": "98187b72-d00a-418f-9de5-4d049814626f",
   "metadata": {},
   "outputs": [
    {
     "data": {
      "text/html": [
       "<table class=\"dataframe\">\n",
       "<caption>A tibble: 1 × 2</caption>\n",
       "<thead>\n",
       "\t<tr><th scope=col>lower_ci</th><th scope=col>upper_ci</th></tr>\n",
       "\t<tr><th scope=col>&lt;dbl&gt;</th><th scope=col>&lt;dbl&gt;</th></tr>\n",
       "</thead>\n",
       "<tbody>\n",
       "\t<tr><td>6.710643</td><td>6.897735</td></tr>\n",
       "</tbody>\n",
       "</table>\n"
      ],
      "text/latex": [
       "A tibble: 1 × 2\n",
       "\\begin{tabular}{ll}\n",
       " lower\\_ci & upper\\_ci\\\\\n",
       " <dbl> & <dbl>\\\\\n",
       "\\hline\n",
       "\t 6.710643 & 6.897735\\\\\n",
       "\\end{tabular}\n"
      ],
      "text/markdown": [
       "\n",
       "A tibble: 1 × 2\n",
       "\n",
       "| lower_ci &lt;dbl&gt; | upper_ci &lt;dbl&gt; |\n",
       "|---|---|\n",
       "| 6.710643 | 6.897735 |\n",
       "\n"
      ],
      "text/plain": [
       "  lower_ci upper_ci\n",
       "1 6.710643 6.897735"
      ]
     },
     "metadata": {},
     "output_type": "display_data"
    }
   ],
   "source": [
    "mean_max_flow_ci <- \n",
    "    sample_dist %>% \n",
    "    summarise(lower_ci = quantile(stat, 0.05), upper_ci = quantile(stat, 0.95))\n",
    "\n",
    "mean_max_flow_ci"
   ]
  },
  {
   "cell_type": "code",
   "execution_count": 81,
   "id": "8118d0c5-4712-42a2-8904-0d303be143e5",
   "metadata": {},
   "outputs": [
    {
     "name": "stderr",
     "output_type": "stream",
     "text": [
      "Warning message:\n",
      "\"You have given `type = \"bootstrap\"`, but `type` is expected to be `\"permute\"`. This workflow is untested and the results may not mean what you think they mean.\"\n"
     ]
    },
    {
     "name": "stdout",
     "output_type": "stream",
     "text": [
      "Response: Maximum.Palermo.Scale (numeric)\n",
      "Explanatory: asteroid_size (factor)\n",
      "\u001b[90m# A tibble: 1 x 1\u001b[39m\n",
      "   stat\n",
      "  \u001b[3m\u001b[90m<dbl>\u001b[39m\u001b[23m\n",
      "\u001b[90m1\u001b[39m 0.926\n"
     ]
    },
    {
     "data": {
      "text/html": [
       "<table class=\"dataframe\">\n",
       "<caption>A infer: 6 × 2</caption>\n",
       "<thead>\n",
       "\t<tr><th scope=col>replicate</th><th scope=col>stat</th></tr>\n",
       "\t<tr><th scope=col>&lt;int&gt;</th><th scope=col>&lt;dbl&gt;</th></tr>\n",
       "</thead>\n",
       "<tbody>\n",
       "\t<tr><td>1</td><td>0.9746926</td></tr>\n",
       "\t<tr><td>2</td><td>0.8921599</td></tr>\n",
       "\t<tr><td>3</td><td>0.9296438</td></tr>\n",
       "\t<tr><td>4</td><td>0.8974665</td></tr>\n",
       "\t<tr><td>5</td><td>0.8761966</td></tr>\n",
       "\t<tr><td>6</td><td>1.1466677</td></tr>\n",
       "</tbody>\n",
       "</table>\n"
      ],
      "text/latex": [
       "A infer: 6 × 2\n",
       "\\begin{tabular}{ll}\n",
       " replicate & stat\\\\\n",
       " <int> & <dbl>\\\\\n",
       "\\hline\n",
       "\t 1 & 0.9746926\\\\\n",
       "\t 2 & 0.8921599\\\\\n",
       "\t 3 & 0.9296438\\\\\n",
       "\t 4 & 0.8974665\\\\\n",
       "\t 5 & 0.8761966\\\\\n",
       "\t 6 & 1.1466677\\\\\n",
       "\\end{tabular}\n"
      ],
      "text/markdown": [
       "\n",
       "A infer: 6 × 2\n",
       "\n",
       "| replicate &lt;int&gt; | stat &lt;dbl&gt; |\n",
       "|---|---|\n",
       "| 1 | 0.9746926 |\n",
       "| 2 | 0.8921599 |\n",
       "| 3 | 0.9296438 |\n",
       "| 4 | 0.8974665 |\n",
       "| 5 | 0.8761966 |\n",
       "| 6 | 1.1466677 |\n",
       "\n"
      ],
      "text/plain": [
       "  replicate stat     \n",
       "1 1         0.9746926\n",
       "2 2         0.8921599\n",
       "3 3         0.9296438\n",
       "4 4         0.8974665\n",
       "5 5         0.8761966\n",
       "6 6         1.1466677"
      ]
     },
     "metadata": {},
     "output_type": "display_data"
    },
    {
     "data": {
      "text/html": [
       "0.921536231673992"
      ],
      "text/latex": [
       "0.921536231673992"
      ],
      "text/markdown": [
       "0.921536231673992"
      ],
      "text/plain": [
       "[1] 0.9215362"
      ]
     },
     "metadata": {},
     "output_type": "display_data"
    }
   ],
   "source": [
    "set.seed(1)\n",
    "obs_diff_in_means <- \n",
    "   df %>% \n",
    "   specify(formula = Maximum.Palermo.Scale ~ asteroid_size) %>% \n",
    "   calculate(stat=\"diff in means\", order = c(\"large\", \"small\"))\n",
    "\n",
    "\n",
    "null_diff_in_means <- \n",
    "   df %>% \n",
    "   specify(formula = Maximum.Palermo.Scale ~ asteroid_size) %>% \n",
    "    hypothesize(null = \"independence\") %>% \n",
    "   generate(type=\"bootstrap\", reps = 1000) %>% \n",
    "   calculate(stat=\"diff in means\", order = c(\"large\", \"small\"))\n",
    "\n",
    "print(obs_diff_in_means)\n",
    "head(null_diff_in_means)\n",
    "mean(null_diff_in_means$stat)"
   ]
  },
  {
   "cell_type": "code",
   "execution_count": 63,
   "id": "792d39fe-7880-486d-81ec-52ee22ed3203",
   "metadata": {},
   "outputs": [
    {
     "data": {
      "image/png": "[encoded data removed]",
      "text/plain": [
       "plot without title"
      ]
     },
     "metadata": {
      "image/png": {
       "height": 420,
       "width": 420
      }
     },
     "output_type": "display_data"
    }
   ],
   "source": [
    "diff_in_means_plot <- \n",
    "   null_diff_in_means %>%\n",
    "   visualize(bins = 10) + \n",
    "   shade_p_value(obs_stat = obs_diff_in_means, direction = \"left\") +\n",
    "    xlab(\"differnce in means\")\n",
    "\n",
    "# your code here\n",
    "\n",
    "\n",
    "diff_in_means_plot"
   ]
  },
  {
   "cell_type": "code",
   "execution_count": 65,
   "id": "eec40ce9-6581-4a12-831a-cd4d6340c0de",
   "metadata": {},
   "outputs": [
    {
     "data": {
      "text/html": [
       "<table class=\"dataframe\">\n",
       "<caption>A tibble: 1 × 1</caption>\n",
       "<thead>\n",
       "\t<tr><th scope=col>p_value</th></tr>\n",
       "\t<tr><th scope=col>&lt;dbl&gt;</th></tr>\n",
       "</thead>\n",
       "<tbody>\n",
       "\t<tr><td>0.53</td></tr>\n",
       "</tbody>\n",
       "</table>\n"
      ],
      "text/latex": [
       "A tibble: 1 × 1\n",
       "\\begin{tabular}{l}\n",
       " p\\_value\\\\\n",
       " <dbl>\\\\\n",
       "\\hline\n",
       "\t 0.53\\\\\n",
       "\\end{tabular}\n"
      ],
      "text/markdown": [
       "\n",
       "A tibble: 1 × 1\n",
       "\n",
       "| p_value &lt;dbl&gt; |\n",
       "|---|\n",
       "| 0.53 |\n",
       "\n"
      ],
      "text/plain": [
       "  p_value\n",
       "1 0.53   "
      ]
     },
     "metadata": {},
     "output_type": "display_data"
    }
   ],
   "source": [
    "p_value_bootstrap <- null_diff_in_means %>% \n",
    "  get_p_value(obs_stat = obs_diff_in_means, direction = \"right\")\n",
    "\n",
    "p_value_bootstrap"
   ]
  },
  {
   "cell_type": "code",
   "execution_count": 73,
   "id": "742fa0ff-3b1c-473c-abc5-907d705055f1",
   "metadata": {},
   "outputs": [
    {
     "name": "stdout",
     "output_type": "stream",
     "text": [
      "[1] \"80% Confidence Interval:\"\n"
     ]
    },
    {
     "data": {
      "text/html": [
       "<table class=\"dataframe\">\n",
       "<caption>A tibble: 1 × 2</caption>\n",
       "<thead>\n",
       "\t<tr><th scope=col>lower_ci</th><th scope=col>upper_ci</th></tr>\n",
       "\t<tr><th scope=col>&lt;dbl&gt;</th><th scope=col>&lt;dbl&gt;</th></tr>\n",
       "</thead>\n",
       "<tbody>\n",
       "\t<tr><td>0.7945991</td><td>1.051799</td></tr>\n",
       "</tbody>\n",
       "</table>\n"
      ],
      "text/latex": [
       "A tibble: 1 × 2\n",
       "\\begin{tabular}{ll}\n",
       " lower\\_ci & upper\\_ci\\\\\n",
       " <dbl> & <dbl>\\\\\n",
       "\\hline\n",
       "\t 0.7945991 & 1.051799\\\\\n",
       "\\end{tabular}\n"
      ],
      "text/markdown": [
       "\n",
       "A tibble: 1 × 2\n",
       "\n",
       "| lower_ci &lt;dbl&gt; | upper_ci &lt;dbl&gt; |\n",
       "|---|---|\n",
       "| 0.7945991 | 1.051799 |\n",
       "\n"
      ],
      "text/plain": [
       "  lower_ci  upper_ci\n",
       "1 0.7945991 1.051799"
      ]
     },
     "metadata": {},
     "output_type": "display_data"
    },
    {
     "name": "stdout",
     "output_type": "stream",
     "text": [
      "[1] \"95% Confidence Interval:\"\n"
     ]
    },
    {
     "data": {
      "text/html": [
       "<table class=\"dataframe\">\n",
       "<caption>A tibble: 1 × 2</caption>\n",
       "<thead>\n",
       "\t<tr><th scope=col>lower_ci</th><th scope=col>upper_ci</th></tr>\n",
       "\t<tr><th scope=col>&lt;dbl&gt;</th><th scope=col>&lt;dbl&gt;</th></tr>\n",
       "</thead>\n",
       "<tbody>\n",
       "\t<tr><td>0.7415225</td><td>1.08654</td></tr>\n",
       "</tbody>\n",
       "</table>\n"
      ],
      "text/latex": [
       "A tibble: 1 × 2\n",
       "\\begin{tabular}{ll}\n",
       " lower\\_ci & upper\\_ci\\\\\n",
       " <dbl> & <dbl>\\\\\n",
       "\\hline\n",
       "\t 0.7415225 & 1.08654\\\\\n",
       "\\end{tabular}\n"
      ],
      "text/markdown": [
       "\n",
       "A tibble: 1 × 2\n",
       "\n",
       "| lower_ci &lt;dbl&gt; | upper_ci &lt;dbl&gt; |\n",
       "|---|---|\n",
       "| 0.7415225 | 1.08654 |\n",
       "\n"
      ],
      "text/plain": [
       "  lower_ci  upper_ci\n",
       "1 0.7415225 1.08654 "
      ]
     },
     "metadata": {},
     "output_type": "display_data"
    },
    {
     "name": "stdout",
     "output_type": "stream",
     "text": [
      "[1] \"99% Confidence Interval:\"\n"
     ]
    },
    {
     "data": {
      "text/html": [
       "<table class=\"dataframe\">\n",
       "<caption>A tibble: 1 × 2</caption>\n",
       "<thead>\n",
       "\t<tr><th scope=col>lower_ci</th><th scope=col>upper_ci</th></tr>\n",
       "\t<tr><th scope=col>&lt;dbl&gt;</th><th scope=col>&lt;dbl&gt;</th></tr>\n",
       "</thead>\n",
       "<tbody>\n",
       "\t<tr><td>0.6670248</td><td>1.160745</td></tr>\n",
       "</tbody>\n",
       "</table>\n"
      ],
      "text/latex": [
       "A tibble: 1 × 2\n",
       "\\begin{tabular}{ll}\n",
       " lower\\_ci & upper\\_ci\\\\\n",
       " <dbl> & <dbl>\\\\\n",
       "\\hline\n",
       "\t 0.6670248 & 1.160745\\\\\n",
       "\\end{tabular}\n"
      ],
      "text/markdown": [
       "\n",
       "A tibble: 1 × 2\n",
       "\n",
       "| lower_ci &lt;dbl&gt; | upper_ci &lt;dbl&gt; |\n",
       "|---|---|\n",
       "| 0.6670248 | 1.160745 |\n",
       "\n"
      ],
      "text/plain": [
       "  lower_ci  upper_ci\n",
       "1 0.6670248 1.160745"
      ]
     },
     "metadata": {},
     "output_type": "display_data"
    }
   ],
   "source": [
    "print(\"80% Confidence Interval:\")\n",
    "ci_80 <- \n",
    "    null_diff_in_means %>% \n",
    "    summarise(lower_ci = quantile(stat, 0.1), upper_ci = quantile(stat, 0.9))\n",
    "\n",
    "ci_80\n",
    "\n",
    "print(\"95% Confidence Interval:\")\n",
    "ci_95 <- \n",
    "    null_diff_in_means %>% \n",
    "    summarise(lower_ci = quantile(stat, 0.05), upper_ci = quantile(stat, 0.95))\n",
    "\n",
    "ci_95\n",
    "\n",
    "print(\"99% Confidence Interval:\")\n",
    "ci_99 <- \n",
    "    null_diff_in_means %>% \n",
    "    summarise(lower_ci = quantile(stat, 0.01), upper_ci = quantile(stat, 0.99))\n",
    "\n",
    "ci_99"
   ]
  },
  {
   "cell_type": "code",
   "execution_count": 79,
   "id": "5f0dd70f-77c9-4d8d-b756-b4f736b9ed73",
   "metadata": {},
   "outputs": [],
   "source": [
    "null_std_error <- sqrt((1.335189/340) + (1.466209/343))"
   ]
  },
  {
   "cell_type": "code",
   "execution_count": 80,
   "id": "5651f944-851c-4fee-bbcc-986c7b8c9821",
   "metadata": {},
   "outputs": [
    {
     "data": {
      "text/html": [
       "0.201662458986173"
      ],
      "text/latex": [
       "0.201662458986173"
      ],
      "text/markdown": [
       "0.201662458986173"
      ],
      "text/plain": [
       "[1] 0.2016625"
      ]
     },
     "metadata": {},
     "output_type": "display_data"
    }
   ],
   "source": [
    "p_value <- pnorm(7.269176-6.342915, null_std_error, lower.tail = FALSE)\n",
    "p_value"
   ]
  },
  {
   "cell_type": "code",
   "execution_count": 68,
   "id": "71041eaa-6197-4952-b0fa-d4a5c90a1dd6",
   "metadata": {},
   "outputs": [
    {
     "data": {
      "text/html": [
       "<table class=\"dataframe\">\n",
       "<caption>A tibble: 1 × 10</caption>\n",
       "<thead>\n",
       "\t<tr><th scope=col>estimate</th><th scope=col>estimate1</th><th scope=col>estimate2</th><th scope=col>statistic</th><th scope=col>p.value</th><th scope=col>parameter</th><th scope=col>conf.low</th><th scope=col>conf.high</th><th scope=col>method</th><th scope=col>alternative</th></tr>\n",
       "\t<tr><th scope=col>&lt;dbl&gt;</th><th scope=col>&lt;dbl&gt;</th><th scope=col>&lt;dbl&gt;</th><th scope=col>&lt;dbl&gt;</th><th scope=col>&lt;dbl&gt;</th><th scope=col>&lt;dbl&gt;</th><th scope=col>&lt;dbl&gt;</th><th scope=col>&lt;dbl&gt;</th><th scope=col>&lt;chr&gt;</th><th scope=col>&lt;chr&gt;</th></tr>\n",
       "</thead>\n",
       "<tbody>\n",
       "\t<tr><td>0.926261</td><td>7.269176</td><td>6.342915</td><td>8.633349</td><td>2.128731e-17</td><td>676.1635</td><td>0.7495446</td><td>Inf</td><td>Welch Two Sample t-test</td><td>greater</td></tr>\n",
       "</tbody>\n",
       "</table>\n"
      ],
      "text/latex": [
       "A tibble: 1 × 10\n",
       "\\begin{tabular}{llllllllll}\n",
       " estimate & estimate1 & estimate2 & statistic & p.value & parameter & conf.low & conf.high & method & alternative\\\\\n",
       " <dbl> & <dbl> & <dbl> & <dbl> & <dbl> & <dbl> & <dbl> & <dbl> & <chr> & <chr>\\\\\n",
       "\\hline\n",
       "\t 0.926261 & 7.269176 & 6.342915 & 8.633349 & 2.128731e-17 & 676.1635 & 0.7495446 & Inf & Welch Two Sample t-test & greater\\\\\n",
       "\\end{tabular}\n"
      ],
      "text/markdown": [
       "\n",
       "A tibble: 1 × 10\n",
       "\n",
       "| estimate &lt;dbl&gt; | estimate1 &lt;dbl&gt; | estimate2 &lt;dbl&gt; | statistic &lt;dbl&gt; | p.value &lt;dbl&gt; | parameter &lt;dbl&gt; | conf.low &lt;dbl&gt; | conf.high &lt;dbl&gt; | method &lt;chr&gt; | alternative &lt;chr&gt; |\n",
       "|---|---|---|---|---|---|---|---|---|---|\n",
       "| 0.926261 | 7.269176 | 6.342915 | 8.633349 | 2.128731e-17 | 676.1635 | 0.7495446 | Inf | Welch Two Sample t-test | greater |\n",
       "\n"
      ],
      "text/plain": [
       "  estimate estimate1 estimate2 statistic p.value      parameter conf.low \n",
       "1 0.926261 7.269176  6.342915  8.633349  2.128731e-17 676.1635  0.7495446\n",
       "  conf.high method                  alternative\n",
       "1 Inf       Welch Two Sample t-test greater    "
      ]
     },
     "metadata": {},
     "output_type": "display_data"
    }
   ],
   "source": [
    "# bream_roach_t_test <-\n",
    "\n",
    "a <- df %>%\n",
    "    filter(asteroid_size == \"large\") %>% select(Maximum.Palermo.Scale)\n",
    "\n",
    "b <- df %>%\n",
    "    filter(asteroid_size == \"small\") %>% select(Maximum.Palermo.Scale)\n",
    "\n",
    "# # your code here\n",
    "t_test <- tidy(\n",
    "    t.test(x=a, y=b, alternative = \"greater\"))\n",
    "\n",
    "t_test"
   ]
  },
  {
   "cell_type": "markdown",
   "id": "e997c007-e246-44d2-bf21-fb89a399ceae",
   "metadata": {},
   "source": [
    "### Methods"
   ]
  },
  {
   "cell_type": "markdown",
   "id": "8e070826-5629-4a88-8341-7531490fe6f0",
   "metadata": {},
   "source": [
    "The Palermo scale was chosen as the metric because it quantifies the relative risk of a NEO over a period of time. It is trustworthy because it is widely recognized by NEO specialists as the predominant metric for quantifying the level of concern. <br>\n",
    "The Sentry system used to monitor potential asteroid collisions is less accurate at calculating the elliptical path and the trajectory of the smaller asteroids. This may result in the group with the small asteroids not being a good representation of the true risk represented by the Palermo scale. <br>\n",
    "We expect to find a higher Palermo scale for asteroids with higher magnitude. This could help analysts more quickly recognize possible harmful asteroids vs benign ones based purely on magnitude. This leads to further questions such as what other parameters influence the Palermo scale, and could this analysis apply to other objects floating above Earth, like the 100 trillion trash and satellites (Kluger 2023), that have an equal chance of colliding and causing damage to Earth?\n"
   ]
  },
  {
   "cell_type": "markdown",
   "id": "3d6ddd19-365b-4b10-8544-6b2231c6962d",
   "metadata": {},
   "source": [
    "### bootstrapping or asymptotics <br>\n",
    "\n",
    "Both bootstrapping and asymptotics can be appropriate in different situations, depending on the nature of the data and the research question. Bootstrapping can be useful when the sample size is small or when the population distribution is unknown or non-normal. However in our case we have a very large sample size that has a normal distribution, suggesting that the population distribution is normal as well. Overall we found that the asymptotic method was better since more computationally efficient and easier to implement and explain. However if our data set was small or not normal than bootstrapping would most likely give us a better estimate of the difference in means. <br>\n",
    "\n",
    "Additionally, bootstrapping relies on resampling from the original data, which means that any biases or errors in the original data will be propagated to the bootstrapped estimates. Asymptotics, on the other hand, relies on mathematical approximations that may not hold true in all situations. Hence although both methods have their pros and cons, we believe that asymptotics is better suited for the problem we have. <br>\n",
    "\n",
    "Our results from bootstrapping are very similar but the p-value we achieved was different. This may be because bootstrapping samples with replacement from our original dataset. Hence it is possible that the same value was selected multiple times changing the distribution and hence changing the p-value. Additionally the difference in results can be due to the assumptions of using asymptotics may not be met (normal distribution and large sample size)."
   ]
  },
  {
   "cell_type": "markdown",
   "id": "750a9765-77f4-4d04-9084-a66a5fa02d50",
   "metadata": {},
   "source": [
    "### Discussion <br>\n",
    "\n",
    "The p-values we got from "
   ]
  },
  {
   "cell_type": "markdown",
   "id": "9247cd5a-843e-4ee5-b043-14bdf354b50a",
   "metadata": {},
   "source": [
    "### References"
   ]
  },
  {
   "cell_type": "markdown",
   "id": "fbe5651b-e9e2-4442-9d51-54e221d8a69b",
   "metadata": {},
   "source": [
    "Kluger, Jeffrey. “Scientists Sound Alarm over a Growing Trash Problem in Space.” Time, Time, 13 Mar. 2023, <br> https://time.com/6262389/space-junk-increasing-problem/.  \n",
    "\n",
    "“Why Study Impact Craters?: AMNH.” American Museum of Natural History, https://www.amnh.org/exhibitions/permanent/meteorites/meteorite-impacts/earth-impacts/why-study-impact-craters#:~:text=Craters%20are%20windows%20into%20the,geological%20history%20of%20those%20bodies.   \n",
    "\n",
    "Yeomans, Donald K. “Why Study Asteroids?” NASA, NASA, April. 1998, https://ssd.jpl.nasa.gov/sb/why_asteroids.html#:~:text=The%20scientific%20interest%20in%20asteroids,Earth's%20biosphere%20in%20the%20past.   \n"
   ]
  }
 ],
 "metadata": {
  "kernelspec": {
   "display_name": "R",
   "language": "R",
   "name": "ir"
  },
  "language_info": {
   "codemirror_mode": "r",
   "file_extension": ".r",
   "mimetype": "text/x-r-source",
   "name": "R",
   "pygments_lexer": "r",
   "version": "4.1.2"
  }
 },
 "nbformat": 4,
 "nbformat_minor": 5
}
