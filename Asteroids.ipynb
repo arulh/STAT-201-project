{
 "cells": [
  {
   "cell_type": "markdown",
   "id": "2ae7870d-3eae-4fd6-ac1a-c8345f311fbd",
   "metadata": {},
   "source": [
    "# Predicting Number of Possible Impacts of Asteroids for different Magnitudes"
   ]
  },
  {
   "cell_type": "code",
   "execution_count": 10,
   "id": "2d1b83ad-d6d3-44c4-9464-543f6834850a",
   "metadata": {},
   "outputs": [],
   "source": [
    "data <- read.csv(\"data/impacts.csv\")"
   ]
  },
  {
   "cell_type": "code",
   "execution_count": 1,
   "id": "774145cc-1c8c-4a1d-b6de-188b39b2af65",
   "metadata": {},
   "outputs": [],
   "source": [
    "url = 'https://raw.githubusercontent.com/arulh/STAT-201-project/main/data/impacts.csv'\n",
    "hawks = read.csv(\n",
    "    url\n",
    ")"
   ]
  },
  {
   "cell_type": "code",
   "execution_count": 2,
   "id": "a2ce4fbd-c9ec-47cb-86d7-6eef75c6ff55",
   "metadata": {},
   "outputs": [
    {
     "data": {
      "text/html": [
       "<table class=\"dataframe\">\n",
       "<caption>A data.frame: 6 × 11</caption>\n",
       "<thead>\n",
       "\t<tr><th></th><th scope=col>Object.Name</th><th scope=col>Period.Start</th><th scope=col>Period.End</th><th scope=col>Possible.Impacts</th><th scope=col>Cumulative.Impact.Probability</th><th scope=col>Asteroid.Velocity</th><th scope=col>Asteroid.Magnitude</th><th scope=col>Asteroid.Diameter..km.</th><th scope=col>Cumulative.Palermo.Scale</th><th scope=col>Maximum.Palermo.Scale</th><th scope=col>Maximum.Torino.Scale</th></tr>\n",
       "\t<tr><th></th><th scope=col>&lt;chr&gt;</th><th scope=col>&lt;int&gt;</th><th scope=col>&lt;int&gt;</th><th scope=col>&lt;int&gt;</th><th scope=col>&lt;dbl&gt;</th><th scope=col>&lt;dbl&gt;</th><th scope=col>&lt;dbl&gt;</th><th scope=col>&lt;dbl&gt;</th><th scope=col>&lt;dbl&gt;</th><th scope=col>&lt;dbl&gt;</th><th scope=col>&lt;chr&gt;</th></tr>\n",
       "</thead>\n",
       "<tbody>\n",
       "\t<tr><th scope=row>1</th><td>2006 WP1  </td><td>2017</td><td>2017</td><td> 1</td><td>5.2e-09</td><td>17.77</td><td>28.3</td><td>0.007</td><td>-8.31</td><td>-8.31</td><td>0</td></tr>\n",
       "\t<tr><th scope=row>2</th><td>2013 YB   </td><td>2017</td><td>2046</td><td>23</td><td>7.6e-05</td><td> 8.98</td><td>31.4</td><td>0.002</td><td>-6.60</td><td>-6.96</td><td>0</td></tr>\n",
       "\t<tr><th scope=row>3</th><td>2008 US   </td><td>2017</td><td>2062</td><td>30</td><td>1.6e-05</td><td>18.33</td><td>31.4</td><td>0.002</td><td>-6.48</td><td>-6.87</td><td>0</td></tr>\n",
       "\t<tr><th scope=row>4</th><td>2010 VR139</td><td>2017</td><td>2076</td><td>24</td><td>2.0e-07</td><td> 4.99</td><td>26.7</td><td>0.016</td><td>-6.83</td><td>-6.95</td><td>0</td></tr>\n",
       "\t<tr><th scope=row>5</th><td>2015 ME131</td><td>2017</td><td>2096</td><td>85</td><td>2.3e-08</td><td>19.46</td><td>19.2</td><td>0.497</td><td>-3.85</td><td>-4.30</td><td>0</td></tr>\n",
       "\t<tr><th scope=row>6</th><td>2010 XB73 </td><td>2017</td><td>2110</td><td>55</td><td>2.8e-07</td><td> 5.98</td><td>22.5</td><td>0.110</td><td>-5.03</td><td>-5.51</td><td>0</td></tr>\n",
       "</tbody>\n",
       "</table>\n"
      ],
      "text/latex": [
       "A data.frame: 6 × 11\n",
       "\\begin{tabular}{r|lllllllllll}\n",
       "  & Object.Name & Period.Start & Period.End & Possible.Impacts & Cumulative.Impact.Probability & Asteroid.Velocity & Asteroid.Magnitude & Asteroid.Diameter..km. & Cumulative.Palermo.Scale & Maximum.Palermo.Scale & Maximum.Torino.Scale\\\\\n",
       "  & <chr> & <int> & <int> & <int> & <dbl> & <dbl> & <dbl> & <dbl> & <dbl> & <dbl> & <chr>\\\\\n",
       "\\hline\n",
       "\t1 & 2006 WP1   & 2017 & 2017 &  1 & 5.2e-09 & 17.77 & 28.3 & 0.007 & -8.31 & -8.31 & 0\\\\\n",
       "\t2 & 2013 YB    & 2017 & 2046 & 23 & 7.6e-05 &  8.98 & 31.4 & 0.002 & -6.60 & -6.96 & 0\\\\\n",
       "\t3 & 2008 US    & 2017 & 2062 & 30 & 1.6e-05 & 18.33 & 31.4 & 0.002 & -6.48 & -6.87 & 0\\\\\n",
       "\t4 & 2010 VR139 & 2017 & 2076 & 24 & 2.0e-07 &  4.99 & 26.7 & 0.016 & -6.83 & -6.95 & 0\\\\\n",
       "\t5 & 2015 ME131 & 2017 & 2096 & 85 & 2.3e-08 & 19.46 & 19.2 & 0.497 & -3.85 & -4.30 & 0\\\\\n",
       "\t6 & 2010 XB73  & 2017 & 2110 & 55 & 2.8e-07 &  5.98 & 22.5 & 0.110 & -5.03 & -5.51 & 0\\\\\n",
       "\\end{tabular}\n"
      ],
      "text/markdown": [
       "\n",
       "A data.frame: 6 × 11\n",
       "\n",
       "| <!--/--> | Object.Name &lt;chr&gt; | Period.Start &lt;int&gt; | Period.End &lt;int&gt; | Possible.Impacts &lt;int&gt; | Cumulative.Impact.Probability &lt;dbl&gt; | Asteroid.Velocity &lt;dbl&gt; | Asteroid.Magnitude &lt;dbl&gt; | Asteroid.Diameter..km. &lt;dbl&gt; | Cumulative.Palermo.Scale &lt;dbl&gt; | Maximum.Palermo.Scale &lt;dbl&gt; | Maximum.Torino.Scale &lt;chr&gt; |\n",
       "|---|---|---|---|---|---|---|---|---|---|---|---|\n",
       "| 1 | 2006 WP1   | 2017 | 2017 |  1 | 5.2e-09 | 17.77 | 28.3 | 0.007 | -8.31 | -8.31 | 0 |\n",
       "| 2 | 2013 YB    | 2017 | 2046 | 23 | 7.6e-05 |  8.98 | 31.4 | 0.002 | -6.60 | -6.96 | 0 |\n",
       "| 3 | 2008 US    | 2017 | 2062 | 30 | 1.6e-05 | 18.33 | 31.4 | 0.002 | -6.48 | -6.87 | 0 |\n",
       "| 4 | 2010 VR139 | 2017 | 2076 | 24 | 2.0e-07 |  4.99 | 26.7 | 0.016 | -6.83 | -6.95 | 0 |\n",
       "| 5 | 2015 ME131 | 2017 | 2096 | 85 | 2.3e-08 | 19.46 | 19.2 | 0.497 | -3.85 | -4.30 | 0 |\n",
       "| 6 | 2010 XB73  | 2017 | 2110 | 55 | 2.8e-07 |  5.98 | 22.5 | 0.110 | -5.03 | -5.51 | 0 |\n",
       "\n"
      ],
      "text/plain": [
       "  Object.Name Period.Start Period.End Possible.Impacts\n",
       "1 2006 WP1    2017         2017        1              \n",
       "2 2013 YB     2017         2046       23              \n",
       "3 2008 US     2017         2062       30              \n",
       "4 2010 VR139  2017         2076       24              \n",
       "5 2015 ME131  2017         2096       85              \n",
       "6 2010 XB73   2017         2110       55              \n",
       "  Cumulative.Impact.Probability Asteroid.Velocity Asteroid.Magnitude\n",
       "1 5.2e-09                       17.77             28.3              \n",
       "2 7.6e-05                        8.98             31.4              \n",
       "3 1.6e-05                       18.33             31.4              \n",
       "4 2.0e-07                        4.99             26.7              \n",
       "5 2.3e-08                       19.46             19.2              \n",
       "6 2.8e-07                        5.98             22.5              \n",
       "  Asteroid.Diameter..km. Cumulative.Palermo.Scale Maximum.Palermo.Scale\n",
       "1 0.007                  -8.31                    -8.31                \n",
       "2 0.002                  -6.60                    -6.96                \n",
       "3 0.002                  -6.48                    -6.87                \n",
       "4 0.016                  -6.83                    -6.95                \n",
       "5 0.497                  -3.85                    -4.30                \n",
       "6 0.110                  -5.03                    -5.51                \n",
       "  Maximum.Torino.Scale\n",
       "1 0                   \n",
       "2 0                   \n",
       "3 0                   \n",
       "4 0                   \n",
       "5 0                   \n",
       "6 0                   "
      ]
     },
     "metadata": {},
     "output_type": "display_data"
    }
   ],
   "source": [
    "head(hawks)"
   ]
  },
  {
   "cell_type": "code",
   "execution_count": null,
   "id": "d772e560-4927-48ad-9ae9-b817e6d167ad",
   "metadata": {},
   "outputs": [],
   "source": []
  }
 ],
 "metadata": {
  "kernelspec": {
   "display_name": "R",
   "language": "R",
   "name": "ir"
  },
  "language_info": {
   "codemirror_mode": "r",
   "file_extension": ".r",
   "mimetype": "text/x-r-source",
   "name": "R",
   "pygments_lexer": "r",
   "version": "4.1.2"
  }
 },
 "nbformat": 4,
 "nbformat_minor": 5
}
